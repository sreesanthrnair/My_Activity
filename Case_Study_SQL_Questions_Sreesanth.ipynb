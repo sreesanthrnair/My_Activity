{
  "nbformat": 4,
  "nbformat_minor": 0,
  "metadata": {
    "colab": {
      "provenance": [],
      "include_colab_link": true
    },
    "kernelspec": {
      "name": "python3",
      "display_name": "Python 3"
    },
    "language_info": {
      "name": "python"
    }
  },
  "cells": [
    {
      "cell_type": "markdown",
      "metadata": {
        "id": "view-in-github",
        "colab_type": "text"
      },
      "source": [
        "<a href=\"https://colab.research.google.com/github/sreesanthrnair/My_Activity/blob/main/Case_Study_SQL_Questions_Sreesanth.ipynb\" target=\"_parent\"><img src=\"https://colab.research.google.com/assets/colab-badge.svg\" alt=\"Open In Colab\"/></a>"
      ]
    },
    {
      "cell_type": "markdown",
      "source": [
        "# Case Study on SQL\n"
      ],
      "metadata": {
        "id": "WEiBwlhgYtYx"
      }
    },
    {
      "cell_type": "code",
      "source": [
        "import sqlite3\n",
        "import pandas as pd"
      ],
      "metadata": {
        "id": "Q6xrAf0CgwyW"
      },
      "execution_count": 1,
      "outputs": []
    },
    {
      "cell_type": "code",
      "source": [
        "def load_imdb_database(db_path):\n",
        "  try:\n",
        "    conn = sqlite3.connect(db_path)\n",
        "    print(\"IMDB database loaded successfully.\")\n",
        "    return conn\n",
        "  except sqlite3.Error as e:\n",
        "    print(f\"Error loading IMDB database: {e}\")\n",
        "    return None"
      ],
      "metadata": {
        "id": "YOO65TNTg7fg"
      },
      "execution_count": 2,
      "outputs": []
    },
    {
      "cell_type": "code",
      "execution_count": 3,
      "metadata": {
        "colab": {
          "base_uri": "https://localhost:8080/"
        },
        "id": "-0Th69XEghxi",
        "outputId": "29106c9f-4313-4de9-99fe-119dd4b56c3d"
      },
      "outputs": [
        {
          "output_type": "stream",
          "name": "stdout",
          "text": [
            "IMDB database loaded successfully.\n",
            "Connection successful\n"
          ]
        }
      ],
      "source": [
        "db_path = \"/content/imdb.db\"\n",
        "conn = load_imdb_database(db_path)\n",
        "\n",
        "if conn:\n",
        "  print(\"Connection successful\")\n",
        "  cursor = conn.cursor()"
      ]
    },
    {
      "cell_type": "markdown",
      "source": [
        "## Following is the schema of the IMDB database. It lists all tables and their schemas.\n",
        "\n"
      ],
      "metadata": {
        "id": "OyMdDsyWakEL"
      }
    },
    {
      "cell_type": "code",
      "source": [
        "cursor.execute(\"SELECT name FROM sqlite_master WHERE type='table';\")\n",
        "tables = cursor.fetchall()\n",
        "\n",
        "print(\"Database Schema:\")\n",
        "for table in tables:\n",
        "    table_name = table[0]\n",
        "    print(f\"\\nTable: {table_name}\")\n",
        "\n",
        "    cursor.execute(f\"PRAGMA table_info({table_name});\")\n",
        "    schema = cursor.fetchall()\n",
        "\n",
        "    print(\"Columns:\")\n",
        "    for column in schema:\n",
        "        cid, name, dtype, notnull, dflt_value, pk = column\n",
        "        print(f\"  - {name} ({dtype}), NOT NULL: {bool(notnull)}, Default: {dflt_value}, Primary Key: {bool(pk)}\")"
      ],
      "metadata": {
        "colab": {
          "base_uri": "https://localhost:8080/"
        },
        "id": "QHglU6mobmV3",
        "outputId": "cafa3d7e-222d-4302-dbec-b415f05f0668"
      },
      "execution_count": 4,
      "outputs": [
        {
          "output_type": "stream",
          "name": "stdout",
          "text": [
            "Database Schema:\n",
            "\n",
            "Table: Movie\n",
            "Columns:\n",
            "  - index (INTEGER), NOT NULL: False, Default: None, Primary Key: False\n",
            "  - MID (TEXT), NOT NULL: False, Default: None, Primary Key: False\n",
            "  - title (TEXT), NOT NULL: False, Default: None, Primary Key: False\n",
            "  - year (TEXT), NOT NULL: False, Default: None, Primary Key: False\n",
            "  - rating (REAL), NOT NULL: False, Default: None, Primary Key: False\n",
            "  - num_votes (INTEGER), NOT NULL: False, Default: None, Primary Key: False\n",
            "\n",
            "Table: Genre\n",
            "Columns:\n",
            "  - index (INTEGER), NOT NULL: False, Default: None, Primary Key: False\n",
            "  - Name (TEXT), NOT NULL: False, Default: None, Primary Key: False\n",
            "  - GID (INTEGER), NOT NULL: False, Default: None, Primary Key: False\n",
            "\n",
            "Table: Language\n",
            "Columns:\n",
            "  - index (INTEGER), NOT NULL: False, Default: None, Primary Key: False\n",
            "  - Name (TEXT), NOT NULL: False, Default: None, Primary Key: False\n",
            "  - LAID (INTEGER), NOT NULL: False, Default: None, Primary Key: False\n",
            "\n",
            "Table: Country\n",
            "Columns:\n",
            "  - index (INTEGER), NOT NULL: False, Default: None, Primary Key: False\n",
            "  - Name (TEXT), NOT NULL: False, Default: None, Primary Key: False\n",
            "  - CID (INTEGER), NOT NULL: False, Default: None, Primary Key: False\n",
            "\n",
            "Table: Location\n",
            "Columns:\n",
            "  - index (INTEGER), NOT NULL: False, Default: None, Primary Key: False\n",
            "  - Name (TEXT), NOT NULL: False, Default: None, Primary Key: False\n",
            "  - LID (INTEGER), NOT NULL: False, Default: None, Primary Key: False\n",
            "\n",
            "Table: M_Location\n",
            "Columns:\n",
            "  - index (INTEGER), NOT NULL: False, Default: None, Primary Key: False\n",
            "  - MID (TEXT), NOT NULL: False, Default: None, Primary Key: False\n",
            "  - LID (REAL), NOT NULL: False, Default: None, Primary Key: False\n",
            "  - ID (INTEGER), NOT NULL: False, Default: None, Primary Key: False\n",
            "\n",
            "Table: M_Country\n",
            "Columns:\n",
            "  - index (INTEGER), NOT NULL: False, Default: None, Primary Key: False\n",
            "  - MID (TEXT), NOT NULL: False, Default: None, Primary Key: False\n",
            "  - CID (REAL), NOT NULL: False, Default: None, Primary Key: False\n",
            "  - ID (INTEGER), NOT NULL: False, Default: None, Primary Key: False\n",
            "\n",
            "Table: M_Language\n",
            "Columns:\n",
            "  - index (INTEGER), NOT NULL: False, Default: None, Primary Key: False\n",
            "  - MID (TEXT), NOT NULL: False, Default: None, Primary Key: False\n",
            "  - LAID (INTEGER), NOT NULL: False, Default: None, Primary Key: False\n",
            "  - ID (INTEGER), NOT NULL: False, Default: None, Primary Key: False\n",
            "\n",
            "Table: M_Genre\n",
            "Columns:\n",
            "  - index (INTEGER), NOT NULL: False, Default: None, Primary Key: False\n",
            "  - MID (TEXT), NOT NULL: False, Default: None, Primary Key: False\n",
            "  - GID (INTEGER), NOT NULL: False, Default: None, Primary Key: False\n",
            "  - ID (INTEGER), NOT NULL: False, Default: None, Primary Key: False\n",
            "\n",
            "Table: Person\n",
            "Columns:\n",
            "  - index (INTEGER), NOT NULL: False, Default: None, Primary Key: False\n",
            "  - PID (TEXT), NOT NULL: False, Default: None, Primary Key: False\n",
            "  - Name (TEXT), NOT NULL: False, Default: None, Primary Key: False\n",
            "  - Gender (TEXT), NOT NULL: False, Default: None, Primary Key: False\n",
            "\n",
            "Table: M_Producer\n",
            "Columns:\n",
            "  - index (INTEGER), NOT NULL: False, Default: None, Primary Key: False\n",
            "  - MID (TEXT), NOT NULL: False, Default: None, Primary Key: False\n",
            "  - PID (TEXT), NOT NULL: False, Default: None, Primary Key: False\n",
            "  - ID (INTEGER), NOT NULL: False, Default: None, Primary Key: False\n",
            "\n",
            "Table: M_Director\n",
            "Columns:\n",
            "  - index (INTEGER), NOT NULL: False, Default: None, Primary Key: False\n",
            "  - MID (TEXT), NOT NULL: False, Default: None, Primary Key: False\n",
            "  - PID (TEXT), NOT NULL: False, Default: None, Primary Key: False\n",
            "  - ID (INTEGER), NOT NULL: False, Default: None, Primary Key: False\n",
            "\n",
            "Table: M_Cast\n",
            "Columns:\n",
            "  - index (INTEGER), NOT NULL: False, Default: None, Primary Key: False\n",
            "  - MID (TEXT), NOT NULL: False, Default: None, Primary Key: False\n",
            "  - PID (TEXT), NOT NULL: False, Default: None, Primary Key: False\n",
            "  - ID (INTEGER), NOT NULL: False, Default: None, Primary Key: False\n"
          ]
        }
      ]
    },
    {
      "cell_type": "markdown",
      "source": [
        "# Write SQL queries for the following questions"
      ],
      "metadata": {
        "id": "At0HJhxwcWMV"
      }
    },
    {
      "cell_type": "markdown",
      "source": [
        "## 1. Write query to list first 5 rows of Person table\n",
        "\n",
        "\n",
        "\n"
      ],
      "metadata": {
        "id": "cHeY-4I-Y1Go"
      }
    },
    {
      "cell_type": "code",
      "source": [
        "q1 = \"\"\"SELECT * from person LIMIT 5;\"\"\""
      ],
      "metadata": {
        "id": "yTksEs_JHuK8"
      },
      "execution_count": 5,
      "outputs": []
    },
    {
      "cell_type": "code",
      "source": [
        "def q1_grader(q1):\n",
        "  result = pd.read_sql_query(q1, conn)\n",
        "  return result.shape == (5, 4)\n",
        "print(q1_grader(q1))"
      ],
      "metadata": {
        "colab": {
          "base_uri": "https://localhost:8080/"
        },
        "id": "19rLGemCcoak",
        "outputId": "74df2c25-dbde-4ee0-b7f7-9530209341ab"
      },
      "execution_count": 6,
      "outputs": [
        {
          "output_type": "stream",
          "name": "stdout",
          "text": [
            "True\n"
          ]
        }
      ]
    },
    {
      "cell_type": "markdown",
      "source": [
        "## 2. Write query to select title, year and rating from Movie table"
      ],
      "metadata": {
        "id": "Cmuvp9h7dZWu"
      }
    },
    {
      "cell_type": "code",
      "source": [
        "q2 = \"\"\"SELECT title,year,rating from movie ;\"\"\""
      ],
      "metadata": {
        "id": "g7MI-hJycPtn"
      },
      "execution_count": 7,
      "outputs": []
    },
    {
      "cell_type": "code",
      "source": [
        "def q2_grader(q2):\n",
        "  result = pd.read_sql_query(q2, conn)\n",
        "  return result.shape == (3473, 3) and result['title'][0]=='Mowgli'\n",
        "print(q2_grader(q2))"
      ],
      "metadata": {
        "colab": {
          "base_uri": "https://localhost:8080/"
        },
        "id": "gyk9b2uvd5O6",
        "outputId": "28f05505-f02a-4886-9ad5-680cd87e0f72"
      },
      "execution_count": 8,
      "outputs": [
        {
          "output_type": "stream",
          "name": "stdout",
          "text": [
            "True\n"
          ]
        }
      ]
    },
    {
      "cell_type": "markdown",
      "source": [
        "## 3. Write query to get title of first movie in movie table sorted by year in ascending order\n"
      ],
      "metadata": {
        "id": "EvD979LNeaFm"
      }
    },
    {
      "cell_type": "code",
      "source": [
        "q3 = \"\"\"SELECT title from Movie order by year limit 1;\"\"\""
      ],
      "metadata": {
        "id": "noFVuK27eczz"
      },
      "execution_count": 9,
      "outputs": []
    },
    {
      "cell_type": "code",
      "source": [
        "def q3_grader(q3):\n",
        "  result = pd.read_sql_query(q3, conn)\n",
        "  return result['title']=='Alam Ara'\n",
        "print(q3_grader(q3))"
      ],
      "metadata": {
        "colab": {
          "base_uri": "https://localhost:8080/"
        },
        "id": "jpGuMnkveeU5",
        "outputId": "90a8cdb9-4900-42a1-c7a4-b4a4d605ceb0"
      },
      "execution_count": 10,
      "outputs": [
        {
          "output_type": "stream",
          "name": "stdout",
          "text": [
            "0    True\n",
            "Name: title, dtype: bool\n"
          ]
        }
      ]
    },
    {
      "cell_type": "markdown",
      "source": [
        "## 4. Write query to get the very first year in which Devdas movie was released"
      ],
      "metadata": {
        "id": "ZQVPvM8qgl3k"
      }
    },
    {
      "cell_type": "code",
      "source": [
        "q4 = \"\"\"SELECT  year from Movie where title = 'Devdas' order by year limit 1;\"\"\""
      ],
      "metadata": {
        "id": "DbvKV1XXgmd9"
      },
      "execution_count": 11,
      "outputs": []
    },
    {
      "cell_type": "code",
      "source": [
        "def q4_grader(q4):\n",
        "  result = pd.read_sql_query(q4, conn)\n",
        "  return result['year']=='1936'\n",
        "print(q4_grader(q4))"
      ],
      "metadata": {
        "colab": {
          "base_uri": "https://localhost:8080/"
        },
        "id": "SJWlc4gCg6Gn",
        "outputId": "5783ccf4-43ef-4dde-dab3-bccf0dcd674d"
      },
      "execution_count": 12,
      "outputs": [
        {
          "output_type": "stream",
          "name": "stdout",
          "text": [
            "0    True\n",
            "Name: year, dtype: bool\n"
          ]
        }
      ]
    },
    {
      "cell_type": "markdown",
      "source": [
        "## 5. Write query to get the number of movies released in 2018"
      ],
      "metadata": {
        "id": "sLHeXz_siuSW"
      }
    },
    {
      "cell_type": "code",
      "source": [
        "q5 = \"\"\"SELECT count(*) from Movie where year=2018;\"\"\""
      ],
      "metadata": {
        "id": "fErMDcrFiuzw"
      },
      "execution_count": 13,
      "outputs": []
    },
    {
      "cell_type": "code",
      "source": [
        "def q5_grader(q5):\n",
        "  result = pd.read_sql_query(q5, conn)\n",
        "  return result.iloc[0, 0] == 93\n",
        "print(q5_grader(q5))"
      ],
      "metadata": {
        "colab": {
          "base_uri": "https://localhost:8080/"
        },
        "id": "mV2gadLKi6ow",
        "outputId": "9c702aff-b43c-4e4e-bb50-548122080098"
      },
      "execution_count": 14,
      "outputs": [
        {
          "output_type": "stream",
          "name": "stdout",
          "text": [
            "True\n"
          ]
        }
      ]
    },
    {
      "cell_type": "markdown",
      "source": [
        "## 6. Write query to get the title of the movie with most number of votes in 2012"
      ],
      "metadata": {
        "id": "95Y3MGgsndph"
      }
    },
    {
      "cell_type": "code",
      "source": [
        "q6 = \"\"\"SELECT title from Movie order by num_votes desc limit 1;\"\"\""
      ],
      "metadata": {
        "id": "SK-BCCy2j2tz"
      },
      "execution_count": 15,
      "outputs": []
    },
    {
      "cell_type": "code",
      "source": [
        "def q6_grader(q6):\n",
        "  result = pd.read_sql_query(q6, conn)\n",
        "  return result[\"title\"]==\"The Avengers\"\n",
        "print(q6_grader(q6))"
      ],
      "metadata": {
        "colab": {
          "base_uri": "https://localhost:8080/"
        },
        "id": "1s8NPuftj6kO",
        "outputId": "571267c0-2669-43f7-a5eb-80dca55f83b7"
      },
      "execution_count": 16,
      "outputs": [
        {
          "output_type": "stream",
          "name": "stdout",
          "text": [
            "0    True\n",
            "Name: title, dtype: bool\n"
          ]
        }
      ]
    },
    {
      "cell_type": "markdown",
      "source": [
        "## 7. Write SQL query to find all the unique movie titles released in 2018"
      ],
      "metadata": {
        "id": "anmreTN2zRzL"
      }
    },
    {
      "cell_type": "code",
      "source": [
        "q7 = \"\"\"SELECT distinct title from Movie where year = 2018;\"\"\""
      ],
      "metadata": {
        "id": "T3gG0QsPzSQz"
      },
      "execution_count": 17,
      "outputs": []
    },
    {
      "cell_type": "code",
      "source": [
        "def q7_grader(q7):\n",
        "  result = pd.read_sql_query(q7, conn)\n",
        "  return result.shape==(93, 1)\n",
        "print(q7_grader(q7))"
      ],
      "metadata": {
        "colab": {
          "base_uri": "https://localhost:8080/"
        },
        "id": "ndp9snvBz0U5",
        "outputId": "3aa168b5-51d2-40f5-a307-5b601a8b1aa6"
      },
      "execution_count": 18,
      "outputs": [
        {
          "output_type": "stream",
          "name": "stdout",
          "text": [
            "True\n"
          ]
        }
      ]
    },
    {
      "cell_type": "markdown",
      "source": [
        "## 8. Write SQL query to get total number of movies released between 2017 (inclusive) and 2018 (inclusive)"
      ],
      "metadata": {
        "id": "TZEjK38M1Q8q"
      }
    },
    {
      "cell_type": "code",
      "source": [
        "q8 = \"\"\"SELECT count(*) from Movie where year between 2017 and 2018;\"\"\""
      ],
      "metadata": {
        "id": "vXz5lPZ80j3-"
      },
      "execution_count": 19,
      "outputs": []
    },
    {
      "cell_type": "code",
      "source": [
        "def q8_grader(q8):\n",
        "  result = pd.read_sql_query(q8, conn)\n",
        "  return result.iloc[0, 0] == 211\n",
        "print(q8_grader(q8))"
      ],
      "metadata": {
        "colab": {
          "base_uri": "https://localhost:8080/"
        },
        "id": "p9wXgEae02ZV",
        "outputId": "5d1e8eb3-0ee4-471f-82a1-9b48e913dd6e"
      },
      "execution_count": 20,
      "outputs": [
        {
          "output_type": "stream",
          "name": "stdout",
          "text": [
            "True\n"
          ]
        }
      ]
    },
    {
      "cell_type": "markdown",
      "source": [
        "## 9. Write SQL query to find the year in which maximum number of movies released"
      ],
      "metadata": {
        "id": "L7WKxoUU3Ai6"
      }
    },
    {
      "cell_type": "code",
      "source": [
        "q9 = \"\"\"SELECT year from Movie group by year order by count(*) desc ;\"\"\""
      ],
      "metadata": {
        "id": "fktY0SbY1qSA"
      },
      "execution_count": 21,
      "outputs": []
    },
    {
      "cell_type": "code",
      "source": [
        "def q9_grader(q9):\n",
        "  result = pd.read_sql_query(q9, conn)\n",
        "  return result[\"year\"][0]==\"2005\"\n",
        "print(q9_grader(q9))"
      ],
      "metadata": {
        "colab": {
          "base_uri": "https://localhost:8080/"
        },
        "id": "yiYfQr1R13As",
        "outputId": "5693a492-de1e-4280-81a2-77d34d9ff3ae"
      },
      "execution_count": 22,
      "outputs": [
        {
          "output_type": "stream",
          "name": "stdout",
          "text": [
            "True\n"
          ]
        }
      ]
    },
    {
      "cell_type": "markdown",
      "source": [
        "## 10. Write SQL query to find the title of the movie with rating>9.5 and number of votes > 90"
      ],
      "metadata": {
        "id": "dP2eLdzq7lBM"
      }
    },
    {
      "cell_type": "code",
      "source": [
        "q10 = \"\"\"SELECT title from Movie where rating>9.5 and num_votes >90;\"\"\""
      ],
      "metadata": {
        "id": "DUCNjcQM3VG-"
      },
      "execution_count": 23,
      "outputs": []
    },
    {
      "cell_type": "code",
      "source": [
        "def q10_grader(q10):\n",
        "  result = pd.read_sql_query(q10, conn)\n",
        "  return result[\"title\"][0]==\"Man on Mission Fauladi\"\n",
        "print(q10_grader(q10))"
      ],
      "metadata": {
        "colab": {
          "base_uri": "https://localhost:8080/"
        },
        "id": "njqsiZo-3e6o",
        "outputId": "49adef65-47ca-4c86-e5d2-c354d90af85b"
      },
      "execution_count": 24,
      "outputs": [
        {
          "output_type": "stream",
          "name": "stdout",
          "text": [
            "True\n"
          ]
        }
      ]
    },
    {
      "cell_type": "markdown",
      "source": [
        "## 11. Write SQL query to find the number of movies which has the word 'Dilwale' in their title"
      ],
      "metadata": {
        "id": "7Ov94gw_949N"
      }
    },
    {
      "cell_type": "code",
      "source": [
        "q11 = \"\"\"SELECT count(*) from Movie where title like '%Dilwale%';\"\"\""
      ],
      "metadata": {
        "id": "9T5y3B1z8H4v"
      },
      "execution_count": 25,
      "outputs": []
    },
    {
      "cell_type": "code",
      "source": [
        "def q11_grader(q11):\n",
        "  result = pd.read_sql_query(q11, conn)\n",
        "  return result.iloc[0, 0] == 4\n",
        "print(q11_grader(q11))"
      ],
      "metadata": {
        "colab": {
          "base_uri": "https://localhost:8080/"
        },
        "id": "gvtXmjaz8lfg",
        "outputId": "50d9b424-7964-4eac-8565-5588189d8913"
      },
      "execution_count": 26,
      "outputs": [
        {
          "output_type": "stream",
          "name": "stdout",
          "text": [
            "True\n"
          ]
        }
      ]
    },
    {
      "cell_type": "markdown",
      "source": [
        "## 12. Write nested SQL query to find the CID of country which produced most number of movies"
      ],
      "metadata": {
        "id": "5PaMaYb6AwgQ"
      }
    },
    {
      "cell_type": "code",
      "source": [
        "q12 = \"\"\"SELECT CID\n",
        "        FROM M_Country\n",
        "        GROUP BY CID\n",
        "        HAVING COUNT(*) = (SELECT MAX(movie_counts)\n",
        "                          FROM(\n",
        "\n",
        "                                SELECT COUNT(*) AS movie_counts\n",
        "                                FROM M_Country\n",
        "                                GROUP BY CID)\n",
        "         );\"\"\""
      ],
      "metadata": {
        "id": "Ey1GZDoG-t2n"
      },
      "execution_count": 27,
      "outputs": []
    },
    {
      "cell_type": "markdown",
      "source": [],
      "metadata": {
        "id": "Y_JoV9zXJAUA"
      }
    },
    {
      "cell_type": "code",
      "source": [
        "def q12_grader(q12):\n",
        "  result = pd.read_sql_query(q12, conn)\n",
        "  return result.iloc[0]==2.0\n",
        "print(q12_grader(q12))"
      ],
      "metadata": {
        "colab": {
          "base_uri": "https://localhost:8080/"
        },
        "id": "5gHU4XQO-0E-",
        "outputId": "2af8b8db-a219-4ef0-a711-4068948727e4"
      },
      "execution_count": 28,
      "outputs": [
        {
          "output_type": "stream",
          "name": "stdout",
          "text": [
            "CID    True\n",
            "Name: 0, dtype: bool\n"
          ]
        }
      ]
    },
    {
      "cell_type": "markdown",
      "source": [
        "## 13. Write nested SQL query to the country which produced most number of movies (use both Courty table and M_Country table)"
      ],
      "metadata": {
        "id": "F0E3Nw4nD7ux"
      }
    },
    {
      "cell_type": "code",
      "source": [
        "q13 = \"\"\"SELECT Name\n",
        "         FROM COUNTRY\n",
        "         WHERE CID = (SELECT CID\n",
        "                      FROM M_COUNTRY\n",
        "                      GROUP BY CID\n",
        "                      HAVING COUNT(*) = (SELECT MAX(COUNTS)\n",
        "                                        FROM (SELECT COUNT(*) AS COUNTS\n",
        "                                              FROM M_COUNTRY\n",
        "                                              GROUP BY CID)));\"\"\""
      ],
      "metadata": {
        "id": "kJaN-L9aBY4Q"
      },
      "execution_count": 29,
      "outputs": []
    },
    {
      "cell_type": "code",
      "source": [
        "def q13_grader(q13):\n",
        "  result = pd.read_sql_query(q13, conn)\n",
        "  return result.iloc[0, 0] == \"India\"\n",
        "print(q13_grader(q13))"
      ],
      "metadata": {
        "colab": {
          "base_uri": "https://localhost:8080/"
        },
        "id": "L8JOMcpjBqZo",
        "outputId": "f2cc78f2-d9fb-4f44-8f44-ca458b39039c"
      },
      "execution_count": 30,
      "outputs": [
        {
          "output_type": "stream",
          "name": "stdout",
          "text": [
            "True\n"
          ]
        }
      ]
    },
    {
      "cell_type": "markdown",
      "source": [
        "## 14. Write SQL query to get the year and number of movies per year having number of movies per year is greater than 100"
      ],
      "metadata": {
        "id": "OHcgp0uCF003"
      }
    },
    {
      "cell_type": "code",
      "source": [
        "q14 = \"\"\"SELECT year, count(*)\n",
        "         FROM Movie\n",
        "         GROUP BY year\n",
        "         HAVING COUNT(*) > 100;\"\"\"\n"
      ],
      "metadata": {
        "id": "AmIL0LgMENl_"
      },
      "execution_count": 31,
      "outputs": []
    },
    {
      "cell_type": "code",
      "source": [
        "def q14_grader(q14):\n",
        "  result = pd.read_sql_query(q14, conn)\n",
        "  return result.shape==(13,2)\n",
        "print(q14_grader(q14))"
      ],
      "metadata": {
        "colab": {
          "base_uri": "https://localhost:8080/"
        },
        "id": "RWWaEwJtE6Uj",
        "outputId": "960cf1d4-86c4-4693-9cab-0e099cd20d34"
      },
      "execution_count": 32,
      "outputs": [
        {
          "output_type": "stream",
          "name": "stdout",
          "text": [
            "True\n"
          ]
        }
      ]
    },
    {
      "cell_type": "markdown",
      "source": [
        "## 15. Write SQL query to get the Name and Language ID (LAID) corresponding to Malayalam language"
      ],
      "metadata": {
        "id": "LcrzqodqG-Ae"
      }
    },
    {
      "cell_type": "code",
      "source": [
        "q15 = \"\"\"SELECT Name, LAID\n",
        "         FROM Language\n",
        "         WHERE LOWER(Name) = 'malayalam';\"\"\""
      ],
      "metadata": {
        "id": "mZ7EH8emGXJg"
      },
      "execution_count": 33,
      "outputs": []
    },
    {
      "cell_type": "code",
      "source": [
        "def q15_grader(q15):\n",
        "  result = pd.read_sql_query(q15, conn)\n",
        "  print(result)\n",
        "  return result[[\"Name\", \"LAID\"]].values.tolist() == [['Malayalam', 19]]\n",
        "print(q15_grader(q15))"
      ],
      "metadata": {
        "colab": {
          "base_uri": "https://localhost:8080/"
        },
        "id": "rVRZJXwoGcdX",
        "outputId": "a26874b0-73fb-4a05-9c73-7e6b806c2bfe"
      },
      "execution_count": 34,
      "outputs": [
        {
          "output_type": "stream",
          "name": "stdout",
          "text": [
            "        Name  LAID\n",
            "0  Malayalam    19\n",
            "True\n"
          ]
        }
      ]
    },
    {
      "cell_type": "markdown",
      "source": [
        "## 16. Write SQL query to do inner join with movie table and M_Language table with MID colums"
      ],
      "metadata": {
        "id": "DvPnI7MDJVoT"
      }
    },
    {
      "cell_type": "code",
      "source": [
        "q16 = \"\"\"SELECT *\n",
        "         FROM Movie M\n",
        "         INNER JOIN M_Language L\n",
        "         on M.MID = L.MID;\"\"\""
      ],
      "metadata": {
        "id": "ZPO83_w1Hxco"
      },
      "execution_count": 35,
      "outputs": []
    },
    {
      "cell_type": "code",
      "source": [
        "def q16_grader(q16):\n",
        "  result = pd.read_sql_query(q16, conn)\n",
        "  return result\n",
        "print(q16_grader(q16))"
      ],
      "metadata": {
        "colab": {
          "base_uri": "https://localhost:8080/"
        },
        "id": "S89KrFeQIWuv",
        "outputId": "6c46d21f-c0b6-4475-8c19-5857c5041bf6"
      },
      "execution_count": 36,
      "outputs": [
        {
          "output_type": "stream",
          "name": "stdout",
          "text": [
            "      index        MID          title  year  rating  num_votes  index  \\\n",
            "0         0  tt2388771         Mowgli  2018     6.6      21967      0   \n",
            "1         1  tt5164214  Ocean's Eight  2018     6.2     110861      1   \n",
            "2         2  tt1365519    Tomb Raider  2018     6.4     142585      2   \n",
            "3         3  tt0848228   The Avengers  2012     8.1    1137529      3   \n",
            "4         4  tt8239946        Tumbbad  2018     8.5       7483      4   \n",
            "...     ...        ...            ...   ...     ...        ...    ...   \n",
            "3468   3470  tt0090611    Allah-Rakha  1986     6.2         96   3470   \n",
            "3469   3471  tt0106270          Anari  1993     4.7        301   3471   \n",
            "3470   3472  tt0852989  Come December  2006     5.7         57   3472   \n",
            "3471   3473  tt0375882     Kala Jigar  1939     3.3        174   3473   \n",
            "3472   3474  tt0375890         Kanoon  1994     3.2        103   3474   \n",
            "\n",
            "            MID  LAID    ID  \n",
            "0     tt2388771     0     0  \n",
            "1     tt5164214     0     1  \n",
            "2     tt1365519     0     2  \n",
            "3     tt0848228     0     3  \n",
            "4     tt8239946     1     4  \n",
            "...         ...   ...   ...  \n",
            "3468  tt0090611     2  3470  \n",
            "3469  tt0106270     2  3471  \n",
            "3470  tt0852989     2  3472  \n",
            "3471  tt0375882     2  3473  \n",
            "3472  tt0375890     2  3474  \n",
            "\n",
            "[3473 rows x 10 columns]\n"
          ]
        }
      ]
    },
    {
      "cell_type": "markdown",
      "source": [
        "## 17. Write SQL query to list title, year and rating of malayalam movies in the database by doing an inner join with movie table and M_Language table with MID column, also assuming language ID of malayalam movies as 19"
      ],
      "metadata": {
        "id": "vhF0SQu5Lthd"
      }
    },
    {
      "cell_type": "code",
      "source": [
        "q17=\"\"\"SELECT\n",
        "  m.title,\n",
        "  m.year,\n",
        "  m.rating\n",
        "FROM\n",
        "  Movie AS m\n",
        "  INNER JOIN\n",
        "  M_Language AS ml\n",
        "  ON m.MID = ml.MID\n",
        "WHERE\n",
        "  ml.LAID = 19;\"\"\"\n"
      ],
      "metadata": {
        "id": "yHB7KI-wKw3p"
      },
      "execution_count": 37,
      "outputs": []
    },
    {
      "cell_type": "code",
      "source": [
        "def q17_grader(q17):\n",
        "  result = pd.read_sql_query(q17, conn)\n",
        "  return result.shape==(16,3)\n",
        "print(q17_grader(q17))"
      ],
      "metadata": {
        "colab": {
          "base_uri": "https://localhost:8080/"
        },
        "id": "Ji5W5cemLX0a",
        "outputId": "2e6b562e-d43f-4784-87de-db4c6d2ce9f5"
      },
      "execution_count": 38,
      "outputs": [
        {
          "output_type": "stream",
          "name": "stdout",
          "text": [
            "True\n"
          ]
        }
      ]
    },
    {
      "cell_type": "code",
      "source": [
        "![ -f academic.db ] && rm academic.db\n",
        "\n",
        "conn = sqlite3.connect(\"academic.db\")\n",
        "cursor = conn.cursor()"
      ],
      "metadata": {
        "id": "GhjTNuPwqO7z"
      },
      "execution_count": 39,
      "outputs": []
    },
    {
      "cell_type": "markdown",
      "source": [
        "## 18. Write SQL query to Create a table named students with two columns id (integer type) and name (varchar type)"
      ],
      "metadata": {
        "id": "aH8Y1PS9OZyj"
      }
    },
    {
      "cell_type": "code",
      "source": [
        "q18a = \"\"\"CREATE TABLE students (\n",
        "    id INT,\n",
        "    name VARCHAR(255)\n",
        ");\n",
        "\"\"\""
      ],
      "metadata": {
        "id": "TsaafyrxIYFd"
      },
      "execution_count": 40,
      "outputs": []
    },
    {
      "cell_type": "code",
      "source": [
        "def q18_grader_a(q18):\n",
        "  try:\n",
        "    cursor.execute(q18)\n",
        "    return True\n",
        "  except:\n",
        "    pass\n",
        "\n",
        "def q18_grader_b(q19):\n",
        "  result = pd.read_sql_query(q19, conn)\n",
        "  return result.columns.tolist() == ['id', 'name']\n",
        "\n",
        "q18b = \"\"\"SELECT * FROM students;\"\"\"\n",
        "\n",
        "print(q18_grader_a(q18a) and q18_grader_b(q18b))"
      ],
      "metadata": {
        "colab": {
          "base_uri": "https://localhost:8080/"
        },
        "id": "whuIWdc4OAzm",
        "outputId": "2beaee0e-84e4-40e4-f6c9-aed04fa6286f"
      },
      "execution_count": 41,
      "outputs": [
        {
          "output_type": "stream",
          "name": "stdout",
          "text": [
            "True\n"
          ]
        }
      ]
    },
    {
      "cell_type": "markdown",
      "source": [
        "## 19. Write SQL query to insert the values (1, 'Alice') into students table"
      ],
      "metadata": {
        "id": "-hRir0DKPa9I"
      }
    },
    {
      "cell_type": "code",
      "source": [
        "q19_a = \"\"\"INSERT INTO students (id, name)\n",
        "VALUES (1, 'Alice');\n",
        "\"\"\""
      ],
      "metadata": {
        "id": "4x6gmopqq6s2"
      },
      "execution_count": 42,
      "outputs": []
    },
    {
      "cell_type": "code",
      "source": [
        "def q19_grader_a(q19_a):\n",
        "  try:\n",
        "    cursor.execute(q19_a)\n",
        "  except:\n",
        "    pass\n",
        "  return True\n",
        "\n",
        "def q19_grader_b(q19_b):\n",
        "  result = pd.read_sql_query(q19_b, conn)\n",
        "  return result.values.tolist() == [[1, 'Alice']]\n",
        "\n",
        "q19_b = \"SELECT * FROM students\"\n",
        "print(q19_grader_a(q19_a) and q19_grader_b(q19_b))"
      ],
      "metadata": {
        "colab": {
          "base_uri": "https://localhost:8080/"
        },
        "id": "Bwq8A_58qXS7",
        "outputId": "5c40f1b1-0200-4b6e-9811-26bcc815237e"
      },
      "execution_count": 43,
      "outputs": [
        {
          "output_type": "stream",
          "name": "stdout",
          "text": [
            "True\n"
          ]
        }
      ]
    },
    {
      "cell_type": "markdown",
      "source": [
        "## 20. Write SQL Query to add the following more information to students table\n",
        "\n",
        "| ID | Name    |\n",
        "|----|---------|\n",
        "| 2  | Bob     |\n",
        "| 3  | Charlie |"
      ],
      "metadata": {
        "id": "PuQ4VFtwSu6x"
      }
    },
    {
      "cell_type": "code",
      "source": [
        "q20 = \"\"\"INSERT INTO students (id, name)\n",
        "VALUES\n",
        "    (2, 'Bob'),\n",
        "    (3, 'Charlie');\n",
        "\"\"\""
      ],
      "metadata": {
        "id": "mGQrZEhKqgMo"
      },
      "execution_count": 44,
      "outputs": []
    },
    {
      "cell_type": "code",
      "source": [
        "def q20_grader(q20):\n",
        "  try:\n",
        "    cursor.execute(q20)\n",
        "  except:\n",
        "    pass\n",
        "  return True\n",
        "\n",
        "def q20_grader_b(q20_b):\n",
        "  result = pd.read_sql_query(q20_b, conn)\n",
        "  return result.values.tolist() == [[1, 'Alice'], [2, 'Bob'], [3, 'Charlie']]\n",
        "\n",
        "print(q20_grader(q20) and q20_grader_b(q19_b))"
      ],
      "metadata": {
        "colab": {
          "base_uri": "https://localhost:8080/"
        },
        "id": "FRZxVn3xTAjk",
        "outputId": "cd7bf119-4a99-48b3-c4f4-33546469d09c"
      },
      "execution_count": 45,
      "outputs": [
        {
          "output_type": "stream",
          "name": "stdout",
          "text": [
            "True\n"
          ]
        }
      ]
    },
    {
      "cell_type": "code",
      "source": [
        "conn.close()"
      ],
      "metadata": {
        "id": "qYNpS7UEhKc4"
      },
      "execution_count": 47,
      "outputs": []
    },
    {
      "cell_type": "code",
      "source": [],
      "metadata": {
        "id": "53tIpYUusRVC"
      },
      "execution_count": 46,
      "outputs": []
    }
  ]
}