{
  "nbformat": 4,
  "nbformat_minor": 0,
  "metadata": {
    "colab": {
      "provenance": [],
      "authorship_tag": "ABX9TyN9Pz5v91H8xP+BrWFYhikz",
      "include_colab_link": true
    },
    "kernelspec": {
      "name": "python3",
      "display_name": "Python 3"
    },
    "language_info": {
      "name": "python"
    }
  },
  "cells": [
    {
      "cell_type": "markdown",
      "metadata": {
        "id": "view-in-github",
        "colab_type": "text"
      },
      "source": [
        "<a href=\"https://colab.research.google.com/github/sreesanthrnair/My_Activity/blob/main/case_study_on_statics_sreesanth.ipynb\" target=\"_parent\"><img src=\"https://colab.research.google.com/assets/colab-badge.svg\" alt=\"Open In Colab\"/></a>"
      ]
    },
    {
      "cell_type": "code",
      "source": [
        "#  1. Dataset: Monthly temperatures in a city (in °C): 12, 15, 14, 16, 18, 20, 22, 19,17, 15, 13, 10\n",
        "#Questions:\n",
        "# a) Calculate the mean temperature.\n",
        "# b) Calculate the median temperature.\n",
        "# c) Find the mode of the temperature data.\n",
        "# d) Range and Variance"
      ],
      "metadata": {
        "id": "Zylz89JIRdmv"
      },
      "execution_count": 18,
      "outputs": []
    },
    {
      "cell_type": "code",
      "execution_count": 19,
      "metadata": {
        "colab": {
          "base_uri": "https://localhost:8080/"
        },
        "id": "VWuBGBWDi0I0",
        "outputId": "e11fbd5d-f176-4840-937c-3351150764ee"
      },
      "outputs": [
        {
          "output_type": "stream",
          "name": "stdout",
          "text": [
            "Mean Temperature is 15.92°C\n"
          ]
        }
      ],
      "source": [
        "# a\n",
        "temperature=[12, 15, 14, 16, 18, 20, 22, 19,17, 15, 13, 10]\n",
        "mean=sum(temperature)/len(temperature)\n",
        "print(f'Mean Temperature is {mean:.2f}°C')\n",
        "\n"
      ]
    },
    {
      "cell_type": "code",
      "source": [
        "# b\n",
        "temperature=[12, 15, 14, 16, 18, 20, 22, 19,17, 15, 13, 10]\n",
        "temperature.sort()\n",
        "length=len(temperature)\n",
        "median=(temperature[length//2]+temperature[length//2-1])/2\n",
        "print(f'Median Temperature is {median:.2f}°C')"
      ],
      "metadata": {
        "colab": {
          "base_uri": "https://localhost:8080/"
        },
        "id": "qbJLzCdGlAfR",
        "outputId": "9f8bcae7-c4fd-4862-96a3-0416c8d15cad"
      },
      "execution_count": 20,
      "outputs": [
        {
          "output_type": "stream",
          "name": "stdout",
          "text": [
            "Median Temperature is 15.50°C\n"
          ]
        }
      ]
    },
    {
      "cell_type": "code",
      "source": [
        "# c\n",
        "temperature=[12, 15, 14, 16, 18, 20, 22, 19,17, 15, 13, 10]\n",
        "lst=set(temperature)\n",
        "mode=0\n",
        "mode_count=0\n",
        "for i in lst:\n",
        "     max_count=temperature.count(i)\n",
        "     if(max_count>mode_count):\n",
        "        mode=i\n",
        "        mode_count=max_count\n",
        "print(mode)"
      ],
      "metadata": {
        "colab": {
          "base_uri": "https://localhost:8080/"
        },
        "id": "r0CsGQpZogl5",
        "outputId": "92da6fac-3c0a-46e3-f625-2e41bfa50722"
      },
      "execution_count": 21,
      "outputs": [
        {
          "output_type": "stream",
          "name": "stdout",
          "text": [
            "15\n"
          ]
        }
      ]
    },
    {
      "cell_type": "code",
      "source": [
        "# d\n",
        "# Range\n",
        "temperature=[12, 15, 14, 16, 18, 20, 22, 19,17, 15, 13, 10]\n",
        "range=max(temperature)-min(temperature)\n",
        "print(f'Range is {range}')\n",
        "\n",
        "# Variance\n",
        "mean=sum(temperature)/len(temperature)\n",
        "variance=0\n",
        "for i in temperature:\n",
        "  variance=variance+(i-mean)**2\n",
        "variance=variance/len(temperature)\n",
        "print(variance)"
      ],
      "metadata": {
        "colab": {
          "base_uri": "https://localhost:8080/"
        },
        "id": "9wsjmIThvo7i",
        "outputId": "43216a76-8cca-41ec-ae05-ddb6debc2bb6"
      },
      "execution_count": 22,
      "outputs": [
        {
          "output_type": "stream",
          "name": "stdout",
          "text": [
            "Range is 12\n",
            "11.076388888888888\n"
          ]
        }
      ]
    },
    {
      "cell_type": "code",
      "source": [
        "#  2. Dataset: Heights of students (in cm): 150, 160, 165, 170, 155, 160, 162, 168\n",
        "#  a) Calculate the range of the heights.\n",
        "#  b) Calculate the variance of the heights.\n",
        "#  c) Standard Deviation"
      ],
      "metadata": {
        "id": "u9VAr4KBRGbG"
      },
      "execution_count": 23,
      "outputs": []
    },
    {
      "cell_type": "code",
      "source": [
        "# a\n",
        "temperature=[150, 160, 165, 170, 155, 160, 162, 168]\n",
        "range=max(temperature)-min(temperature)\n",
        "print(f'Range is {range}')"
      ],
      "metadata": {
        "colab": {
          "base_uri": "https://localhost:8080/"
        },
        "id": "WG6jYX7g4NJa",
        "outputId": "7d0587bf-74b8-451a-e46d-6d3d2d5e348c"
      },
      "execution_count": 24,
      "outputs": [
        {
          "output_type": "stream",
          "name": "stdout",
          "text": [
            "Range is 20\n"
          ]
        }
      ]
    },
    {
      "cell_type": "code",
      "source": [
        "# b\n",
        "mean=sum(temperature)/len(temperature)\n",
        "variance=0\n",
        "for i in temperature:\n",
        "  variance=variance+(i-mean)**2\n",
        "variance=variance/len(temperature)\n",
        "print(variance)"
      ],
      "metadata": {
        "colab": {
          "base_uri": "https://localhost:8080/"
        },
        "id": "-IvwQ5m-5nR6",
        "outputId": "bb5081fe-c54e-41d6-82b8-af09a74b2fe5"
      },
      "execution_count": 25,
      "outputs": [
        {
          "output_type": "stream",
          "name": "stdout",
          "text": [
            "38.1875\n"
          ]
        }
      ]
    },
    {
      "cell_type": "code",
      "source": [
        "# c\n",
        "sd=variance**0.5\n",
        "print(sd)"
      ],
      "metadata": {
        "colab": {
          "base_uri": "https://localhost:8080/"
        },
        "id": "loTnenuE6F37",
        "outputId": "a120dc83-82f2-4baa-9b41-a288bf1f23ad"
      },
      "execution_count": 26,
      "outputs": [
        {
          "output_type": "stream",
          "name": "stdout",
          "text": [
            "6.179603547154137\n"
          ]
        }
      ]
    },
    {
      "cell_type": "code",
      "source": [
        "#  3. Dataset: Weekly expenses (in $): 200, 250, 300, 220, 270, 290, 310\n",
        "#  Questions: a) Calculate the standard deviation of the weekly expenses."
      ],
      "metadata": {
        "id": "a1Q1-YyERDaF"
      },
      "execution_count": 27,
      "outputs": []
    },
    {
      "cell_type": "code",
      "source": [
        "\n",
        "expenses=[200, 250, 300, 220, 270, 290, 310]\n",
        "mean=sum(expenses)/len(expenses)\n",
        "variance=0\n",
        "for i in expenses:\n",
        "  variance=variance+(i-mean)**2\n",
        "variance=variance/len(expenses)\n",
        "print (f'{variance**0.5 :.2f}')\n"
      ],
      "metadata": {
        "colab": {
          "base_uri": "https://localhost:8080/"
        },
        "id": "WLCNoibH61nV",
        "outputId": "4fa8fd01-e1df-408d-95e8-cdb446b264d0"
      },
      "execution_count": 28,
      "outputs": [
        {
          "output_type": "stream",
          "name": "stdout",
          "text": [
            "38.44\n"
          ]
        }
      ]
    },
    {
      "cell_type": "code",
      "source": [
        "# 4. Dataset: Advertising Spending (in $1000s): 10, 20, 15, 25, 30; Sales (in\n",
        "#  $1000s): 100, 150, 120, 180, 200\n",
        "#  Questions: a) Calculate the covariance between advertising spending and sales.\n",
        "#  b) Correlation"
      ],
      "metadata": {
        "id": "e83cg3n8RBgX"
      },
      "execution_count": 29,
      "outputs": []
    },
    {
      "cell_type": "code",
      "source": [
        "\n",
        "import statistics as s\n",
        "adSpend=[10, 20, 15, 25, 30]\n",
        "sales=[100, 150, 120, 180, 200]\n",
        "\n",
        "print(s.covariance(adSpend,sales))\n",
        "print(s.correlation(adSpend,sales))\n",
        "\n"
      ],
      "metadata": {
        "colab": {
          "base_uri": "https://localhost:8080/"
        },
        "id": "4Ly1UID_DHXu",
        "outputId": "30b1e94d-dd85-468d-f5e2-b7cdc5cc8ab1"
      },
      "execution_count": 30,
      "outputs": [
        {
          "output_type": "stream",
          "name": "stdout",
          "text": [
            "325.0\n",
            "0.9970544855015816\n"
          ]
        }
      ]
    },
    {
      "cell_type": "code",
      "source": [
        "# 5. Dataset: Study Hours: 2, 4, 6, 8, 10; Exam Scores: 55, 60, 65, 70, 75\n",
        "#  Questions: a) Calculate the correlation coefficient between study hours and exam\n",
        "#  scores.\n",
        "#  b) Interpret the result.\n",
        "#  c) Quartiles and IQR"
      ],
      "metadata": {
        "id": "lpuDJ_x4Q9W0"
      },
      "execution_count": 31,
      "outputs": []
    },
    {
      "cell_type": "code",
      "source": [
        "\n",
        "hours = [2, 4, 6, 8, 10]\n",
        "scores = [55, 60, 65, 70, 75]\n",
        "\n",
        "# Step 1: Means\n",
        "mean_x = sum(hours) / len(hours)\n",
        "mean_y = sum(scores) / len(scores)\n",
        "\n",
        "# Step 2: Numerator and denominator parts\n",
        "num = sum((x - mean_x) * (y - mean_y)for x, y in zip(hours, scores))\n",
        "\n",
        "den_x = sum((x - mean_x) ** 2 for x in hours)\n",
        "den_y = sum((y - mean_y) ** 2 for y in scores)\n",
        "\n",
        "# Step 3: Correlation coefficient\n",
        "r = num / ((den_x * den_y) ** 0.5)\n",
        "print(\"Correlation Coefficient:\", r)\n"
      ],
      "metadata": {
        "colab": {
          "base_uri": "https://localhost:8080/"
        },
        "id": "-WucpvPIGc6Q",
        "outputId": "03d644e0-0c77-4679-82be-d5ac4f7569a3"
      },
      "execution_count": 32,
      "outputs": [
        {
          "output_type": "stream",
          "name": "stdout",
          "text": [
            "Correlation Coefficient: 1.0\n"
          ]
        }
      ]
    },
    {
      "cell_type": "code",
      "source": [
        "print('r = 1.0 means perfect positive correlation. \\nAs study hours increase, exam scores also increase linearly. \\nThe relationship is direct and very strong')"
      ],
      "metadata": {
        "colab": {
          "base_uri": "https://localhost:8080/"
        },
        "id": "5Q_fJoLZMqS_",
        "outputId": "29a54f2a-ccb2-4fbc-bc5d-7d952cad2092"
      },
      "execution_count": 33,
      "outputs": [
        {
          "output_type": "stream",
          "name": "stdout",
          "text": [
            "r = 1.0 means perfect positive correlation. \n",
            "As study hours increase, exam scores also increase linearly. \n",
            "The relationship is direct and very strong\n"
          ]
        }
      ]
    },
    {
      "cell_type": "code",
      "source": [
        "def quartiles(lst):\n",
        "  lst.sort()\n",
        "  fq = 0.25\n",
        "  sq = 0.5\n",
        "  tq = 0.75\n",
        "  lst_length = len(lst)\n",
        "\n",
        "  q1_ind = int(lst_length * fq)\n",
        "  q2_ind = int(lst_length * sq)\n",
        "  q3_ind = int(lst_length * tq)\n",
        "\n",
        "  return [lst[q1_ind], lst[q2_ind], lst[q3_ind]]\n",
        "\n",
        "quartiles_study_hrs = quartiles(hours)\n",
        "quartiles_exam_scores = quartiles(scores)\n",
        "\n",
        "print('Study Hours: \\n')\n",
        "print(f'Q1: {quartiles_study_hrs[0]}, Q2: {quartiles_study_hrs[1]}, Q3: {quartiles_study_hrs[2]}')\n",
        "print(f'IQR: {quartiles_study_hrs[2] - quartiles_study_hrs[0]}\\n')\n",
        "\n",
        "print('Exam Scores: \\n')\n",
        "print(f'Q1: {quartiles_exam_scores[0]}, Q2: {quartiles_exam_scores[1]}, Q3: {quartiles_exam_scores[2]}')\n",
        "print(f'IQR: {quartiles_exam_scores[2] - quartiles_exam_scores[0]}')"
      ],
      "metadata": {
        "colab": {
          "base_uri": "https://localhost:8080/"
        },
        "id": "kZcgUlkyPZXZ",
        "outputId": "0305b1a8-2675-4242-c74d-324e4a339beb"
      },
      "execution_count": 34,
      "outputs": [
        {
          "output_type": "stream",
          "name": "stdout",
          "text": [
            "Study Hours: \n",
            "\n",
            "Q1: 4, Q2: 6, Q3: 8\n",
            "IQR: 4\n",
            "\n",
            "Exam Scores: \n",
            "\n",
            "Q1: 60, Q2: 65, Q3: 70\n",
            "IQR: 10\n"
          ]
        }
      ]
    },
    {
      "cell_type": "code",
      "source": [
        "#  6. Dataset: Monthly savings (in $): 200, 300, 400, 500, 600, 700, 800, 900, 1000,\n",
        "#  1100 Questions: a) Calculate the first quartile (Q1) and third quartile (Q3).\n",
        "#  b) Calculate the interquartile range (IQR).\n",
        "#  c) Detecting Outliers"
      ],
      "metadata": {
        "id": "s8Ry0bf6MUv4"
      },
      "execution_count": 35,
      "outputs": []
    },
    {
      "cell_type": "code",
      "source": [
        "\n",
        "def quartiles(lst):\n",
        "  lst.sort()\n",
        "  fq = 0.25\n",
        "  sq = 0.5\n",
        "  tq = 0.75\n",
        "  lst_length = len(lst)\n",
        "\n",
        "  q1_ind = int(lst_length * fq)\n",
        "  q2_ind = int(lst_length * sq)\n",
        "  q3_ind = int(lst_length * tq)\n",
        "\n",
        "  return [lst[q1_ind], lst[q2_ind], lst[q3_ind]]\n",
        "\n",
        "\n",
        "\n",
        "savings=[200, 300, 400, 500, 600, 700, 800, 900, 1000, 1100]\n",
        "q=quartiles(savings)\n",
        "print(f'q1 : {q[0]}, q2 : {q[1]}, q3 : {q[2]}')\n",
        "print(f'IQR : {q[2]-q[0]}')\n",
        "\n",
        "\n",
        "\n",
        "q1=q[0]\n",
        "q3=q[2]\n",
        "iqr=q3-q1\n",
        "lower_bound=q1-(iqr*1.5)\n",
        "upper_bound=q3+(iqr*1.5)\n",
        "\n",
        "\n",
        "outliers=[]\n",
        "for i in savings:\n",
        "  if(i<lower_bound) or (i>upper_bound):\n",
        "    outliers.append(i)\n",
        "\n",
        "\n",
        "print(f'Outliers : {outliers}')"
      ],
      "metadata": {
        "colab": {
          "base_uri": "https://localhost:8080/"
        },
        "id": "6t8UwHi7Sylf",
        "outputId": "544d8801-d7df-4e39-9361-2d6c8466f5f2"
      },
      "execution_count": 36,
      "outputs": [
        {
          "output_type": "stream",
          "name": "stdout",
          "text": [
            "q1 : 400, q2 : 700, q3 : 900\n",
            "IQR : 500\n",
            "Outliers : []\n"
          ]
        }
      ]
    },
    {
      "cell_type": "code",
      "source": [
        "#  7. Dataset: Ages of employees: 22, 25, 28, 30, 35, 40, 45, 50, 55, 100\n",
        "#  Questions: a) Identify any outliers using the IQR method."
      ],
      "metadata": {
        "id": "qk-gy8WyPeTG"
      },
      "execution_count": 37,
      "outputs": []
    },
    {
      "cell_type": "code",
      "source": [
        "\n",
        "def quartiles(lst):\n",
        "  lst.sort()\n",
        "  fq = 0.25\n",
        "  sq = 0.5\n",
        "  tq = 0.75\n",
        "  lst_length = len(lst)\n",
        "\n",
        "  q1_ind = int(lst_length * fq)\n",
        "  q2_ind = int(lst_length * sq)\n",
        "  q3_ind = int(lst_length * tq)\n",
        "\n",
        "  return [lst[q1_ind], lst[q2_ind], lst[q3_ind]]\n",
        "\n",
        "\n",
        "\n",
        "ages=[22, 25, 28, 30, 35, 40, 45, 50, 55, 100]\n",
        "q=quartiles(ages)\n",
        "\n",
        "\n",
        "\n",
        "q1=q[0]\n",
        "q3=q[2]\n",
        "iqr=q3-q1\n",
        "lower_bound=q1-(iqr*1.5)\n",
        "upper_bound=q3+(iqr*1.5)\n",
        "\n",
        "\n",
        "outliers=[]\n",
        "for i in ages:\n",
        "  if(i<lower_bound) or (i>upper_bound):\n",
        "    outliers.append(i)\n",
        "\n",
        "\n",
        "print(f'Outliers : {outliers}')"
      ],
      "metadata": {
        "colab": {
          "base_uri": "https://localhost:8080/"
        },
        "id": "22DZmtUXPiw3",
        "outputId": "bdda26b6-f9f0-4f3b-f8df-2dd073047ee9"
      },
      "execution_count": 38,
      "outputs": [
        {
          "output_type": "stream",
          "name": "stdout",
          "text": [
            "Outliers : [100]\n"
          ]
        }
      ]
    },
    {
      "cell_type": "code",
      "source": [
        "# 8. Dataset: Observed frequencies of customer preferences for three products:\n",
        "# Product A: 50, 55, 60\n",
        "#  Product B: 30, 25, 35\n",
        "#  Product C: 20, 20, 25\n",
        "#  Questions:\n",
        "# a) Perform a chi-square test to determine if there is a significant difference in customer preferences among the three products.\n",
        "# b) Hypothesis Testing"
      ],
      "metadata": {
        "id": "snFA5qOwQD16"
      },
      "execution_count": 39,
      "outputs": []
    },
    {
      "cell_type": "code",
      "source": [
        "from scipy import stats\n",
        "\n",
        "prod_a = [50, 55, 60]\n",
        "prod_b = [30, 25, 35]\n",
        "prod_c = [20, 20, 25]\n",
        "\n",
        "chi2_stat, p_value, dof, expected = stats.chi2_contingency([prod_a, prod_b, prod_c])\n",
        "print(f\"Chi-square statistic: {chi2_stat:.3f}\")\n",
        "print(f\"P-value: {p_value:.3f}\")\n",
        "print(f\"Degrees of freedom: {dof}\")\n",
        "print(\"Expected frequencies table:\")\n",
        "\n",
        "if p_value < 0.05:\n",
        "  print('There is significant statistical evidence, Null hypothesis is rejected')\n",
        "else:\n",
        "  print('There is no significant statistical evidence, We fail to reject null hypothesis')"
      ],
      "metadata": {
        "colab": {
          "base_uri": "https://localhost:8080/"
        },
        "id": "JFT6Moa_QQvI",
        "outputId": "75cbc77c-316d-4247-b3bf-8d758eee36bb"
      },
      "execution_count": 40,
      "outputs": [
        {
          "output_type": "stream",
          "name": "stdout",
          "text": [
            "Chi-square statistic: 0.877\n",
            "P-value: 0.928\n",
            "Degrees of freedom: 4\n",
            "Expected frequencies table:\n",
            "There is no significant statistical evidence, We fail to reject null hypothesis\n"
          ]
        }
      ]
    },
    {
      "cell_type": "code",
      "source": [
        "#  9. Dataset: Sample weights (in kg) of a new diet program: 70, 68, 72, 71, 69, 73,72, 74, 70, 71\n",
        "#Questions:\n",
        "#  a) Test the hypothesis that the mean weight after the diet program is equal to 70 kg at a 5% significance level.\n",
        "#  b) Z-Scores"
      ],
      "metadata": {
        "id": "nfhKPEdGQrrv"
      },
      "execution_count": 41,
      "outputs": []
    },
    {
      "cell_type": "code",
      "source": [
        "# a\n",
        "from scipy import stats\n",
        "import numpy as np\n",
        "\n",
        "weights = [70, 68, 72, 71, 69, 73, 72, 74, 70, 71]\n",
        "\n",
        "mu = 70\n",
        "\n",
        "# One-sample t-test\n",
        "t_stat, p_val = stats.ttest_1samp(weights, mu)\n",
        "\n",
        "print(\"t-statistic:\", t_stat)\n",
        "print(\"p-value:\", p_val)\n",
        "\n",
        "if p_val < 0.05:\n",
        "    print(\"Reject H₀: Mean is significantly different from 70 kg\")\n",
        "else:\n",
        "    print(\"Fail to reject H₀: No significant difference from 70 kg\")\n"
      ],
      "metadata": {
        "colab": {
          "base_uri": "https://localhost:8080/"
        },
        "id": "8oIV5qY9Qve1",
        "outputId": "f36c8da8-8c41-4113-ce73-0982a42878f0"
      },
      "execution_count": 42,
      "outputs": [
        {
          "output_type": "stream",
          "name": "stdout",
          "text": [
            "t-statistic: 1.732050807568877\n",
            "p-value: 0.11730680301423822\n",
            "Fail to reject H₀: No significant difference from 70 kg\n"
          ]
        }
      ]
    },
    {
      "cell_type": "code",
      "source": [
        "# b\n",
        "# Calculate z-scores\n",
        "z_scores = stats.zscore(weights)\n",
        "\n",
        "print(\"Z-Scores:\", z_scores)\n"
      ],
      "metadata": {
        "colab": {
          "base_uri": "https://localhost:8080/"
        },
        "id": "4w0scXo0XmTn",
        "outputId": "5b1b96c2-917c-4a28-e9c8-b1a4c035fe71"
      },
      "execution_count": 43,
      "outputs": [
        {
          "output_type": "stream",
          "name": "stdout",
          "text": [
            "Z-Scores: [-0.57735027 -1.73205081  0.57735027  0.         -1.15470054  1.15470054\n",
            "  0.57735027  1.73205081 -0.57735027  0.        ]\n"
          ]
        }
      ]
    },
    {
      "cell_type": "code",
      "source": [
        "# 10. Dataset: Annual salaries of employees (in $1000s): 40, 42, 45, 47, 50, 52, 55,57, 60, 62 Questions:\n",
        "#  a) Calculate the z-scores for each salary.\n",
        "#  b) Interpret the z-scores.\n",
        "#  c) Normal Distribution"
      ],
      "metadata": {
        "id": "H557otPGQyuW"
      },
      "execution_count": 44,
      "outputs": []
    },
    {
      "cell_type": "code",
      "source": [
        "# a\n",
        "from scipy import stats\n",
        "import numpy as np\n",
        "\n",
        "salaries = [40, 42, 45, 47, 50, 52, 55, 57, 60, 62]\n",
        "\n",
        "# Calculate z-scores\n",
        "z_scores = stats.zscore(salaries)\n",
        "\n",
        "print(\"Z-scores:\", z_scores)\n"
      ],
      "metadata": {
        "colab": {
          "base_uri": "https://localhost:8080/"
        },
        "id": "gI9Na-0kQ1zP",
        "outputId": "a20f1d6c-f4ce-43e8-f9bc-e582c3fda3ab"
      },
      "execution_count": 45,
      "outputs": [
        {
          "output_type": "stream",
          "name": "stdout",
          "text": [
            "Z-scores: [-1.54030809 -1.26025208 -0.84016805 -0.56011203 -0.14002801  0.14002801\n",
            "  0.56011203  0.84016805  1.26025208  1.54030809]\n"
          ]
        }
      ]
    },
    {
      "cell_type": "code",
      "source": [
        "# b\n",
        "print('A z-score of 0 → the salary equals the mean.')\n",
        "print('Positive z-score → salary is above the mean.')\n",
        "print(\"Negative z-score → salary is below the mean.')\")"
      ],
      "metadata": {
        "colab": {
          "base_uri": "https://localhost:8080/"
        },
        "id": "3Jsrmk9xYAbt",
        "outputId": "d21bcb07-8a2e-422e-e26f-251fb6d1b852"
      },
      "execution_count": 46,
      "outputs": [
        {
          "output_type": "stream",
          "name": "stdout",
          "text": [
            "A z-score of 0 → the salary equals the mean.\n",
            "Positive z-score → salary is above the mean.\n",
            "Negative z-score → salary is below the mean.')\n"
          ]
        }
      ]
    }
  ]
}