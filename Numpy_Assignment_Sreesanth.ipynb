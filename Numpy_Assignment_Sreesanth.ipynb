{
  "nbformat": 4,
  "nbformat_minor": 0,
  "metadata": {
    "colab": {
      "provenance": [],
      "authorship_tag": "ABX9TyMb5SnKZf/1prW6SGMN3u5R",
      "include_colab_link": true
    },
    "kernelspec": {
      "name": "python3",
      "display_name": "Python 3"
    },
    "language_info": {
      "name": "python"
    }
  },
  "cells": [
    {
      "cell_type": "markdown",
      "metadata": {
        "id": "view-in-github",
        "colab_type": "text"
      },
      "source": [
        "<a href=\"https://colab.research.google.com/github/sreesanthrnair/My_Activity/blob/main/Numpy_Assignment_Sreesanth.ipynb\" target=\"_parent\"><img src=\"https://colab.research.google.com/assets/colab-badge.svg\" alt=\"Open In Colab\"/></a>"
      ]
    },
    {
      "cell_type": "code",
      "execution_count": null,
      "metadata": {
        "id": "MKvwlEd404XA"
      },
      "outputs": [],
      "source": [
        "# 1. Create a NumPy array with values from 10 to 49 (inclusive).\n",
        "# ● Reshape it into a 4x10 matrix.\n",
        "# ● Then extract the last column from the reshaped matrix -------------------------------------------------------------------------------------\n",
        "import numpy as np\n"
      ]
    },
    {
      "cell_type": "code",
      "source": [
        "arr=np.arange(10,50)\n",
        "arr"
      ],
      "metadata": {
        "colab": {
          "base_uri": "https://localhost:8080/"
        },
        "id": "c8UfMWp31vCO",
        "outputId": "99e2ca31-d729-4351-ea07-3012d25d3973"
      },
      "execution_count": null,
      "outputs": [
        {
          "output_type": "execute_result",
          "data": {
            "text/plain": [
              "array([10, 11, 12, 13, 14, 15, 16, 17, 18, 19, 20, 21, 22, 23, 24, 25, 26,\n",
              "       27, 28, 29, 30, 31, 32, 33, 34, 35, 36, 37, 38, 39, 40, 41, 42, 43,\n",
              "       44, 45, 46, 47, 48, 49])"
            ]
          },
          "metadata": {},
          "execution_count": 10
        }
      ]
    },
    {
      "cell_type": "code",
      "source": [
        "x1=arr.reshape(4,10)\n",
        "x"
      ],
      "metadata": {
        "colab": {
          "base_uri": "https://localhost:8080/"
        },
        "id": "8dnSN2gk248B",
        "outputId": "c6c58ef8-1ac3-46b5-8a6c-636f49d0347b"
      },
      "execution_count": null,
      "outputs": [
        {
          "output_type": "execute_result",
          "data": {
            "text/plain": [
              "array([[10, 11, 12, 13, 14, 15, 16, 17, 18, 19],\n",
              "       [20, 21, 22, 23, 24, 25, 26, 27, 28, 29],\n",
              "       [30, 31, 32, 33, 34, 35, 36, 37, 38, 39],\n",
              "       [40, 41, 42, 43, 44, 45, 46, 47, 48, 49]])"
            ]
          },
          "metadata": {},
          "execution_count": 24
        }
      ]
    },
    {
      "cell_type": "code",
      "source": [
        "lst_column=x1[:,-1]\n",
        "lst_column"
      ],
      "metadata": {
        "colab": {
          "base_uri": "https://localhost:8080/"
        },
        "id": "3QsTEULH3y9C",
        "outputId": "abda7ca6-3487-49fa-d729-7778d5333564"
      },
      "execution_count": null,
      "outputs": [
        {
          "output_type": "execute_result",
          "data": {
            "text/plain": [
              "array([19, 29, 39, 49])"
            ]
          },
          "metadata": {},
          "execution_count": 25
        }
      ]
    },
    {
      "cell_type": "code",
      "source": [
        "# 2.Create two 3×3 matrices:\n",
        "# One filled with all 5s , One with values from 1 to 9\n",
        "# ● Add the two matrices\n",
        "# ● Multiply them element-wise\n",
        "# ● Then find the transpose of the result\n",
        "x2=np.full((3,3),5)\n",
        "x2"
      ],
      "metadata": {
        "colab": {
          "base_uri": "https://localhost:8080/"
        },
        "id": "xc5cwuYK4tPk",
        "outputId": "a772d6f7-f2f2-485d-d74a-fe72552943f5"
      },
      "execution_count": null,
      "outputs": [
        {
          "output_type": "execute_result",
          "data": {
            "text/plain": [
              "array([[5, 5, 5],\n",
              "       [5, 5, 5],\n",
              "       [5, 5, 5]])"
            ]
          },
          "metadata": {},
          "execution_count": 31
        }
      ]
    },
    {
      "cell_type": "code",
      "source": [
        "x3=np.arange(1,10).reshape(3,3)\n",
        "\n"
      ],
      "metadata": {
        "id": "HYrmL0l26eJQ"
      },
      "execution_count": null,
      "outputs": []
    },
    {
      "cell_type": "code",
      "source": [
        "sum=x2+x3\n",
        "sum"
      ],
      "metadata": {
        "colab": {
          "base_uri": "https://localhost:8080/"
        },
        "id": "Jo394qFF78Nc",
        "outputId": "5178ba17-e961-4118-fcdb-095a4a191b6c"
      },
      "execution_count": null,
      "outputs": [
        {
          "output_type": "execute_result",
          "data": {
            "text/plain": [
              "array([[ 6,  7,  8],\n",
              "       [ 9, 10, 11],\n",
              "       [12, 13, 14]])"
            ]
          },
          "metadata": {},
          "execution_count": 39
        }
      ]
    },
    {
      "cell_type": "code",
      "source": [
        "mul=x2*x3\n",
        "mul"
      ],
      "metadata": {
        "colab": {
          "base_uri": "https://localhost:8080/"
        },
        "id": "coOCZm5O9Vsj",
        "outputId": "c4e32e22-e257-47d6-bb61-294fc6d4e0fa"
      },
      "execution_count": null,
      "outputs": [
        {
          "output_type": "execute_result",
          "data": {
            "text/plain": [
              "array([[ 5, 10, 15],\n",
              "       [20, 25, 30],\n",
              "       [35, 40, 45]])"
            ]
          },
          "metadata": {},
          "execution_count": 40
        }
      ]
    },
    {
      "cell_type": "code",
      "source": [
        "tranz=np.transpose(mul)\n",
        "tranz"
      ],
      "metadata": {
        "colab": {
          "base_uri": "https://localhost:8080/"
        },
        "id": "KEyfsfsx9rLl",
        "outputId": "98cbac5e-853a-44cb-e0c7-4ee59ce219a2"
      },
      "execution_count": null,
      "outputs": [
        {
          "output_type": "execute_result",
          "data": {
            "text/plain": [
              "array([[ 5, 20, 35],\n",
              "       [10, 25, 40],\n",
              "       [15, 30, 45]])"
            ]
          },
          "metadata": {},
          "execution_count": 41
        }
      ]
    },
    {
      "cell_type": "code",
      "source": [
        "#3.Create a NumPy array of 15 random integers between 10 and 100.\n",
        "# ● Replace all values greater than 50 with -1\n",
        "# ● Count how many values were replaced.\n",
        "arr=np.random.randint(10,101,size=15)\n",
        "arr"
      ],
      "metadata": {
        "colab": {
          "base_uri": "https://localhost:8080/"
        },
        "id": "POWnS4xj95XX",
        "outputId": "f771383f-f5d8-46de-e127-440a02d654fc"
      },
      "execution_count": null,
      "outputs": [
        {
          "output_type": "execute_result",
          "data": {
            "text/plain": [
              "array([45, 37, 50, 55, 79, 27, 61, 84, 68, 41, 68, 38, 52, 33, 69])"
            ]
          },
          "metadata": {},
          "execution_count": 44
        }
      ]
    },
    {
      "cell_type": "code",
      "source": [
        "arr[arr>50]=-1\n",
        "arr"
      ],
      "metadata": {
        "colab": {
          "base_uri": "https://localhost:8080/"
        },
        "id": "KqtUqmCk_sdz",
        "outputId": "b43bf8e5-079c-4fad-b1c8-5e89e2da1fdd"
      },
      "execution_count": null,
      "outputs": [
        {
          "output_type": "execute_result",
          "data": {
            "text/plain": [
              "array([45, 37, 50, -1, -1, 27, -1, -1, -1, 41, -1, 38, -1, 33, -1])"
            ]
          },
          "metadata": {},
          "execution_count": 46
        }
      ]
    },
    {
      "cell_type": "code",
      "source": [
        "count_replaced=np.sum(arr==-1)\n",
        "count_replaced"
      ],
      "metadata": {
        "colab": {
          "base_uri": "https://localhost:8080/"
        },
        "id": "sdNCoCU5AGqd",
        "outputId": "c93f4ca6-d0b9-4913-b25e-fd558275a2f3"
      },
      "execution_count": null,
      "outputs": [
        {
          "output_type": "execute_result",
          "data": {
            "text/plain": [
              "np.int64(8)"
            ]
          },
          "metadata": {},
          "execution_count": 50
        }
      ]
    },
    {
      "cell_type": "code",
      "source": [
        "# 4. Generate a 5×4 array with random values between 0 and 1 (float).\n",
        "# ● Find the row with the maximum sum of values.\n",
        "# ● Normalize each row using the formula: --------------------------------------------------------------------\n",
        "x4=np.random.random((5,4))\n",
        "x4"
      ],
      "metadata": {
        "colab": {
          "base_uri": "https://localhost:8080/"
        },
        "id": "G79Bol4aBuhq",
        "outputId": "dd0d49c6-41e6-43a1-8d52-692e61e25c2b"
      },
      "execution_count": null,
      "outputs": [
        {
          "output_type": "execute_result",
          "data": {
            "text/plain": [
              "array([[0.48569508, 0.1550692 , 0.79246515, 0.37376158],\n",
              "       [0.64566344, 0.93908198, 0.13579701, 0.22585466],\n",
              "       [0.14539179, 0.88887916, 0.99479276, 0.13684792],\n",
              "       [0.66763663, 0.23721622, 0.16540292, 0.2810338 ],\n",
              "       [0.63813754, 0.56330309, 0.50096353, 0.73601703]])"
            ]
          },
          "metadata": {},
          "execution_count": 51
        }
      ]
    },
    {
      "cell_type": "code",
      "source": [
        "row_sums = np.sum(x4, axis=1)\n",
        "max_row_index = np.argmax(row_sums)\n",
        "max_row = x4[max_row_index]\n",
        "max_row"
      ],
      "metadata": {
        "colab": {
          "base_uri": "https://localhost:8080/"
        },
        "id": "07ya6hc9EyJY",
        "outputId": "d0ce79ca-5ea3-44ec-a9bc-fd65b5252125"
      },
      "execution_count": null,
      "outputs": [
        {
          "output_type": "execute_result",
          "data": {
            "text/plain": [
              "array([0.63813754, 0.56330309, 0.50096353, 0.73601703])"
            ]
          },
          "metadata": {},
          "execution_count": 57
        }
      ]
    },
    {
      "cell_type": "code",
      "source": [
        "min_row=np.min(x4,axis=1,keepdims=True)\n",
        "max_row=np.max(x4,axis=1,keepdims=True)\n",
        "normalized=(x4-min_row)/(max_row-min_row)\n",
        "normalized\n"
      ],
      "metadata": {
        "colab": {
          "base_uri": "https://localhost:8080/"
        },
        "id": "8W8sw86KCkUy",
        "outputId": "a3169768-4c83-4b53-d19d-8d2a79c25490"
      },
      "execution_count": null,
      "outputs": [
        {
          "output_type": "execute_result",
          "data": {
            "text/plain": [
              "array([[0.51871349, 0.        , 1.        , 0.34310287],\n",
              "       [0.63472672, 1.        , 0.        , 0.11211171],\n",
              "       [0.00995853, 0.87654964, 1.        , 0.        ],\n",
              "       [1.        , 0.14298781, 0.        , 0.23023321],\n",
              "       [0.58358636, 0.26521435, 0.        , 1.        ]])"
            ]
          },
          "metadata": {},
          "execution_count": 53
        }
      ]
    },
    {
      "cell_type": "code",
      "source": [
        "# 5.arr = np.array([1, 3, 5, 3, 7, 9, 1, 5, 5])\n",
        "# # ● Find all unique elements\n",
        "# # ● Find the duplicates (elements that appear more than once)\n",
        "# x5=np.array([1,3,5,7,9,1,5,5])\n",
        "# unique_value=np.unique(x5)\n",
        "# unique_value"
      ],
      "metadata": {
        "colab": {
          "base_uri": "https://localhost:8080/"
        },
        "id": "NiNtNS4ID1Mj",
        "outputId": "debb9bcf-4f03-4502-e1e3-6cf1b248a71f"
      },
      "execution_count": null,
      "outputs": [
        {
          "output_type": "execute_result",
          "data": {
            "text/plain": [
              "array([1, 3, 5, 7, 9])"
            ]
          },
          "metadata": {},
          "execution_count": 61
        }
      ]
    },
    {
      "cell_type": "code",
      "source": [
        "#5.arr = np.array([1, 3, 5, 3, 7, 9, 1, 5, 5])\n",
        "#  ● Find all unique elements\n",
        "#  ● Find the duplicates (elements that appear more than once)\n",
        "x5 =np.array([1,3,5,3,7,9,1,5,5])\n",
        "U =np.unique(x5)\n",
        "U"
      ],
      "metadata": {
        "colab": {
          "base_uri": "https://localhost:8080/"
        },
        "id": "Vw6UZI7DKWnh",
        "outputId": "bba6efc4-d153-4765-e122-b6882cb391c9"
      },
      "execution_count": null,
      "outputs": [
        {
          "output_type": "execute_result",
          "data": {
            "text/plain": [
              "array([1, 3, 5, 7, 9])"
            ]
          },
          "metadata": {},
          "execution_count": 85
        }
      ]
    },
    {
      "cell_type": "code",
      "source": [
        "elements, counts = np.unique(x5, return_counts=True)\n",
        "duplicates = elements[counts > 1]\n",
        "duplicates\n"
      ],
      "metadata": {
        "colab": {
          "base_uri": "https://localhost:8080/"
        },
        "id": "Ty2txUeIFlUV",
        "outputId": "d3609b6b-68ef-4c67-990e-52347adae7a3"
      },
      "execution_count": null,
      "outputs": [
        {
          "output_type": "execute_result",
          "data": {
            "text/plain": [
              "array([1, 3, 5])"
            ]
          },
          "metadata": {},
          "execution_count": 91
        }
      ]
    },
    {
      "cell_type": "code",
      "source": [
        "# 6. Create a 6×6 NumPy array with values from 1 to 36.\n",
        "# ● Extract the middle 4×4 submatrix.\n",
        "# ● Then extract all even numbers from this submatrix.\n",
        "x6=np.arange(1,37).reshape(6,6)\n",
        "x6\n"
      ],
      "metadata": {
        "colab": {
          "base_uri": "https://localhost:8080/"
        },
        "id": "UHXVwoMUJWK5",
        "outputId": "464fa969-5e1d-448f-ac78-48ef68c9a364"
      },
      "execution_count": null,
      "outputs": [
        {
          "output_type": "execute_result",
          "data": {
            "text/plain": [
              "array([[ 1,  2,  3,  4,  5,  6],\n",
              "       [ 7,  8,  9, 10, 11, 12],\n",
              "       [13, 14, 15, 16, 17, 18],\n",
              "       [19, 20, 21, 22, 23, 24],\n",
              "       [25, 26, 27, 28, 29, 30],\n",
              "       [31, 32, 33, 34, 35, 36]])"
            ]
          },
          "metadata": {},
          "execution_count": 94
        }
      ]
    },
    {
      "cell_type": "code",
      "source": [
        "submatrix=x6[1:4,1:4]\n",
        "submatrix"
      ],
      "metadata": {
        "colab": {
          "base_uri": "https://localhost:8080/"
        },
        "id": "So9l4Y-MQFgf",
        "outputId": "b308f491-92b3-4792-b44e-d91e642ea380"
      },
      "execution_count": null,
      "outputs": [
        {
          "output_type": "execute_result",
          "data": {
            "text/plain": [
              "array([[ 8,  9, 10],\n",
              "       [14, 15, 16],\n",
              "       [20, 21, 22]])"
            ]
          },
          "metadata": {},
          "execution_count": 97
        }
      ]
    },
    {
      "cell_type": "code",
      "source": [
        "even_number=submatrix[submatrix % 2 == 0]\n",
        "even_number"
      ],
      "metadata": {
        "colab": {
          "base_uri": "https://localhost:8080/"
        },
        "id": "cy_8gw3dRsWM",
        "outputId": "ca2394ea-7c76-42b2-b1c3-dce3c8e688e0"
      },
      "execution_count": null,
      "outputs": [
        {
          "output_type": "execute_result",
          "data": {
            "text/plain": [
              "array([ 8, 10, 14, 16, 20, 22])"
            ]
          },
          "metadata": {},
          "execution_count": 98
        }
      ]
    },
    {
      "cell_type": "code",
      "source": [
        "#7. Generate an array of shape (3, 4) with values from 0 to 11.\n",
        "# ● Reshape it to (2, 6)\n",
        "# ● Then flatten it into a 1D array\n",
        "# ● Convert the 1D array back to shape (4, 3)\n",
        "\n",
        "x7=np.arange(0,12).reshape(3,4)\n",
        "x7"
      ],
      "metadata": {
        "colab": {
          "base_uri": "https://localhost:8080/"
        },
        "id": "1834snMoSP9N",
        "outputId": "4481bc2b-b179-481c-adcf-4aebce05914a"
      },
      "execution_count": null,
      "outputs": [
        {
          "output_type": "execute_result",
          "data": {
            "text/plain": [
              "array([[ 0,  1,  2,  3],\n",
              "       [ 4,  5,  6,  7],\n",
              "       [ 8,  9, 10, 11]])"
            ]
          },
          "metadata": {},
          "execution_count": 100
        }
      ]
    },
    {
      "cell_type": "code",
      "source": [
        "reshape_it=x7.reshape(2,6)\n",
        "reshape_it"
      ],
      "metadata": {
        "colab": {
          "base_uri": "https://localhost:8080/"
        },
        "id": "JpyWruwbWnTR",
        "outputId": "1d6cb63a-d5fe-4c3d-fafe-6faed139a3ec"
      },
      "execution_count": null,
      "outputs": [
        {
          "output_type": "execute_result",
          "data": {
            "text/plain": [
              "array([[ 0,  1,  2,  3,  4,  5],\n",
              "       [ 6,  7,  8,  9, 10, 11]])"
            ]
          },
          "metadata": {},
          "execution_count": 101
        }
      ]
    },
    {
      "cell_type": "code",
      "source": [
        "flattened=reshape_it.flatten()\n",
        "flattened"
      ],
      "metadata": {
        "colab": {
          "base_uri": "https://localhost:8080/"
        },
        "id": "Y_j38zHyWrVp",
        "outputId": "b33f579e-aff8-44d0-979e-d7caa2544a23"
      },
      "execution_count": null,
      "outputs": [
        {
          "output_type": "execute_result",
          "data": {
            "text/plain": [
              "array([ 0,  1,  2,  3,  4,  5,  6,  7,  8,  9, 10, 11])"
            ]
          },
          "metadata": {},
          "execution_count": 102
        }
      ]
    },
    {
      "cell_type": "code",
      "source": [
        "# 8.Create an array: a = np.array([[1, 2], [3, 4]])\n",
        "# ● Append a new row [5, 6]\n",
        "# ● Then append a new column [7, 8, 9]\n",
        "\n",
        "a = np.array([[1, 2], [3, 4]])\n",
        "a"
      ],
      "metadata": {
        "colab": {
          "base_uri": "https://localhost:8080/"
        },
        "id": "tYuF412_XAc5",
        "outputId": "4cef4386-4689-4108-d3af-a1993b77b956"
      },
      "execution_count": null,
      "outputs": [
        {
          "output_type": "execute_result",
          "data": {
            "text/plain": [
              "array([[1, 2],\n",
              "       [3, 4]])"
            ]
          },
          "metadata": {},
          "execution_count": 103
        }
      ]
    },
    {
      "cell_type": "code",
      "source": [
        "new = np.array([[5, 6]])\n",
        "new_row = np.append(a, new, axis=0)\n",
        "new_row\n",
        "newc = np.array([7, 8, 9]).reshape(3, 1)\n",
        "new_col = np.append(new_row, newc, axis=1)\n",
        "display(new_col)"
      ],
      "metadata": {
        "colab": {
          "base_uri": "https://localhost:8080/",
          "height": 69
        },
        "id": "uKf9H-6bYWYT",
        "outputId": "af263da4-e845-4233-8694-446eea71418f"
      },
      "execution_count": null,
      "outputs": [
        {
          "output_type": "display_data",
          "data": {
            "text/plain": [
              "array([[1, 2, 7],\n",
              "       [3, 4, 8],\n",
              "       [5, 6, 9]])"
            ]
          },
          "metadata": {}
        }
      ]
    },
    {
      "cell_type": "code",
      "source": [
        "#9. a = np.array([1, 2, 3])\n",
        "# b = np.array([4, 5, 6])\n",
        "# c = np.array([7, 8, 9])\n",
        "# ● Join them into a single array\n",
        "# ● Reshape the result into a 3×3 matrix\n",
        "# ● Extract the diagonal elements\n",
        "\n",
        "a = np.array([1, 2, 3])\n",
        "b = np.array([4, 5, 6])\n",
        "c = np.array([7, 8, 9])\n",
        "joined=np.concatenate((a,b,c))\n",
        "joined"
      ],
      "metadata": {
        "colab": {
          "base_uri": "https://localhost:8080/"
        },
        "id": "NiFA7l4jZRbc",
        "outputId": "9c42055c-e329-4eaa-ab9a-b029992147c7"
      },
      "execution_count": null,
      "outputs": [
        {
          "output_type": "execute_result",
          "data": {
            "text/plain": [
              "array([1, 2, 3, 4, 5, 6, 7, 8, 9])"
            ]
          },
          "metadata": {},
          "execution_count": 107
        }
      ]
    },
    {
      "cell_type": "code",
      "source": [
        "matrix = joined.reshape(3, 3)\n",
        "matrix"
      ],
      "metadata": {
        "colab": {
          "base_uri": "https://localhost:8080/"
        },
        "id": "VQstMoCGaT8j",
        "outputId": "30a37a22-88f5-47fc-9046-65a93c4ca006"
      },
      "execution_count": null,
      "outputs": [
        {
          "output_type": "execute_result",
          "data": {
            "text/plain": [
              "array([[1, 2, 3],\n",
              "       [4, 5, 6],\n",
              "       [7, 8, 9]])"
            ]
          },
          "metadata": {},
          "execution_count": 109
        }
      ]
    },
    {
      "cell_type": "code",
      "source": [
        "diagonal_elements = np.diag(matrix)\n",
        "diagonal_elements"
      ],
      "metadata": {
        "colab": {
          "base_uri": "https://localhost:8080/"
        },
        "id": "QulWfytHcGOI",
        "outputId": "6e6afd81-a46d-487f-d03f-ba48c8505164"
      },
      "execution_count": null,
      "outputs": [
        {
          "output_type": "execute_result",
          "data": {
            "text/plain": [
              "array([1, 5, 9])"
            ]
          },
          "metadata": {},
          "execution_count": 110
        }
      ]
    },
    {
      "cell_type": "code",
      "source": [
        "#10. Create a NumPy array of integers from 1 to 20.\n",
        "# ● Extract all values that are divisible by 3 or 5.\n",
        "# ● Count how many such values exist.\n",
        "\n",
        "x8=np.arange(1,21)\n",
        "x8"
      ],
      "metadata": {
        "colab": {
          "base_uri": "https://localhost:8080/"
        },
        "id": "cxEwGeP6cPkB",
        "outputId": "3704f8f2-758b-41e0-e061-af40a704ebde"
      },
      "execution_count": null,
      "outputs": [
        {
          "output_type": "execute_result",
          "data": {
            "text/plain": [
              "array([ 1,  2,  3,  4,  5,  6,  7,  8,  9, 10, 11, 12, 13, 14, 15, 16, 17,\n",
              "       18, 19, 20])"
            ]
          },
          "metadata": {},
          "execution_count": 111
        }
      ]
    },
    {
      "cell_type": "code",
      "source": [
        "divisible=x8[(x8 % 3 == 0) | (x8 % 5 == 0)]\n",
        "divisible\n"
      ],
      "metadata": {
        "colab": {
          "base_uri": "https://localhost:8080/"
        },
        "id": "lcMOu-8rdLc-",
        "outputId": "8ebe11d5-cb84-454f-8d6e-bc495cc7ed30"
      },
      "execution_count": null,
      "outputs": [
        {
          "output_type": "execute_result",
          "data": {
            "text/plain": [
              "array([ 3,  5,  6,  9, 10, 12, 15, 18, 20])"
            ]
          },
          "metadata": {},
          "execution_count": 113
        }
      ]
    },
    {
      "cell_type": "code",
      "source": [
        "count=len(divisible)\n",
        "count"
      ],
      "metadata": {
        "id": "ZanHDycnejZO",
        "outputId": "2e256602-115a-446a-a5fb-f4bad09a3f9d",
        "colab": {
          "base_uri": "https://localhost:8080/"
        }
      },
      "execution_count": null,
      "outputs": [
        {
          "output_type": "execute_result",
          "data": {
            "text/plain": [
              "9"
            ]
          },
          "metadata": {},
          "execution_count": 114
        }
      ]
    }
  ]
}