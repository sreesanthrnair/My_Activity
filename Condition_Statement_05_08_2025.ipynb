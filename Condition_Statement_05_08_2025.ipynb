{
  "nbformat": 4,
  "nbformat_minor": 0,
  "metadata": {
    "colab": {
      "provenance": [],
      "authorship_tag": "ABX9TyNqnphXkrSh3eAvGS0V1bJt",
      "include_colab_link": true
    },
    "kernelspec": {
      "name": "python3",
      "display_name": "Python 3"
    },
    "language_info": {
      "name": "python"
    }
  },
  "cells": [
    {
      "cell_type": "markdown",
      "metadata": {
        "id": "view-in-github",
        "colab_type": "text"
      },
      "source": [
        "<a href=\"https://colab.research.google.com/github/sreesanthrnair/My_Activity/blob/main/Condition_Statement_05_08_2025.ipynb\" target=\"_parent\"><img src=\"https://colab.research.google.com/assets/colab-badge.svg\" alt=\"Open In Colab\"/></a>"
      ]
    },
    {
      "cell_type": "markdown",
      "source": [
        "## IF - Statement"
      ],
      "metadata": {
        "id": "JG10CvbtTvnY"
      }
    },
    {
      "cell_type": "code",
      "execution_count": null,
      "metadata": {
        "colab": {
          "base_uri": "https://localhost:8080/"
        },
        "id": "OhLe2FyRSSPl",
        "outputId": "ef8f5e88-faf5-4787-f453-c2f7612d6bf6"
      },
      "outputs": [
        {
          "output_type": "stream",
          "name": "stdout",
          "text": [
            "Enter your age: 20\n",
            "Eligible for votting! \n"
          ]
        }
      ],
      "source": [
        "a=int(input(\"Enter your age: \"))\n",
        "if (a>=18):\n",
        " print(\"Eligible for votting! \")\n",
        "#else:\n",
        " # print(\"Not Eligible for votting!\")\n"
      ]
    },
    {
      "cell_type": "markdown",
      "source": [
        "## IF-Else   Statement"
      ],
      "metadata": {
        "id": "ARYcMBv2UB-w"
      }
    },
    {
      "cell_type": "code",
      "source": [
        "a=int(input(\"Enter your age: \"))\n",
        "if (a>=18):\n",
        " print(\"Eligible for votting! \")\n",
        "else:\n",
        "  print(\"Not Eligible for votting!\")\n"
      ],
      "metadata": {
        "colab": {
          "base_uri": "https://localhost:8080/"
        },
        "id": "z1E96_PzUK1w",
        "outputId": "1ad0ec7a-a1f9-4c73-8d8b-c1874df71786"
      },
      "execution_count": null,
      "outputs": [
        {
          "output_type": "stream",
          "name": "stdout",
          "text": [
            "Enter your age: 12\n",
            "Not Eligible for votting!\n"
          ]
        }
      ]
    },
    {
      "cell_type": "markdown",
      "source": [
        "## IF-Elif  Statement"
      ],
      "metadata": {
        "id": "5b_OeTW6UW8f"
      }
    },
    {
      "cell_type": "code",
      "source": [
        "num=int(input('Enter the mark : '))\n",
        "if(num>=80):\n",
        " print('You have distinction !')\n",
        "elif(num>=40):\n",
        "  print('Sabhash Betta !')\n",
        "elif(num<=39):\n",
        "  print('Ahh Thenj')\n"
      ],
      "metadata": {
        "colab": {
          "base_uri": "https://localhost:8080/"
        },
        "id": "xzx6lJt0UmGx",
        "outputId": "9e428a19-1a89-451b-a7f7-b1b8c5e3dc8c"
      },
      "execution_count": null,
      "outputs": [
        {
          "output_type": "stream",
          "name": "stdout",
          "text": [
            "Enter the mark : 39\n",
            "Ahh Thenj\n"
          ]
        }
      ]
    },
    {
      "cell_type": "markdown",
      "source": [
        "## IF-Elif-Else Statement"
      ],
      "metadata": {
        "id": "aHogiL-sWE36"
      }
    },
    {
      "cell_type": "code",
      "source": [
        "num=int(input('Enter the mark : '))\n",
        "if(num>=60):\n",
        " print('Senior Citizen!')\n",
        "elif(num>=20):\n",
        "  print('Adult !')\n",
        "elif(num>=13):\n",
        "  print('Teenage !')\n",
        "else:\n",
        "  print('Child !')\n"
      ],
      "metadata": {
        "colab": {
          "base_uri": "https://localhost:8080/"
        },
        "id": "qaRG56kXWLyy",
        "outputId": "3f67f32e-0501-4a6a-9bc0-4d2e1900db33"
      },
      "execution_count": null,
      "outputs": [
        {
          "output_type": "stream",
          "name": "stdout",
          "text": [
            "Enter the mark : 11\n",
            "Child !\n"
          ]
        }
      ]
    },
    {
      "cell_type": "markdown",
      "source": [
        "## Nested-IF Statement"
      ],
      "metadata": {
        "id": "rXqYwOYxYgNG"
      }
    },
    {
      "cell_type": "code",
      "source": [
        "num=(input('Enter your name : '))\n",
        "if len(num)>=10:\n",
        "  print(\"Your have a long name!\")\n",
        "  #if len(num)<=10:\n",
        "else:\n",
        "  print('You have a short name !')"
      ],
      "metadata": {
        "colab": {
          "base_uri": "https://localhost:8080/"
        },
        "id": "A5V2v1HOYtCv",
        "outputId": "39131bee-287d-4eba-ad31-4b412eda2a15"
      },
      "execution_count": null,
      "outputs": [
        {
          "output_type": "stream",
          "name": "stdout",
          "text": [
            "Enter your name : bdssjvsjvdjvjvkjfvkv\n",
            "Your have a long name!\n"
          ]
        }
      ]
    },
    {
      "cell_type": "code",
      "source": [
        "time=(input('Enter your Time : '))\n",
        "hours=int(time.split(':')[0])\n",
        "mins=int(time.split(':')[1])\n",
        "if(hours)>12 and (hours)<=23:\n",
        "  print(f'The Hour is {hours-12}:{mins} PM')\n",
        "elif(hours)==12:\n",
        "  print(f'The Hours is {hours}:{mins} PM')\n",
        "elif(hours)==00:\n",
        "  print(f'The Hours is {hours+12}:{mins} AM')\n",
        "\n"
      ],
      "metadata": {
        "colab": {
          "base_uri": "https://localhost:8080/"
        },
        "id": "-T7TvCvtbd-K",
        "outputId": "fdc5ed08-e0a2-4da1-a3e4-38c515df8381"
      },
      "execution_count": null,
      "outputs": [
        {
          "output_type": "stream",
          "name": "stdout",
          "text": [
            "Enter your Time : 12:02\n",
            "The Hours is 12:2 PM\n"
          ]
        }
      ]
    },
    {
      "cell_type": "code",
      "source": [
        "#write a program is palindrome or not\n",
        "num=input('Enter a string: ')\n",
        "palin=num[::-1]\n",
        "if(num==palin):\n",
        "  print(f'The word is {num} palindrome !')\n",
        "else:\n",
        "  print(f'The word is {num} not a palindrome !')"
      ],
      "metadata": {
        "colab": {
          "base_uri": "https://localhost:8080/"
        },
        "id": "WXE6KkaaiNQk",
        "outputId": "10672967-4ba9-46a0-fe6f-d5d678fd64ac"
      },
      "execution_count": null,
      "outputs": [
        {
          "output_type": "stream",
          "name": "stdout",
          "text": [
            "Enter a string: sree\n",
            "The word is sree not a palindrome !\n"
          ]
        }
      ]
    },
    {
      "cell_type": "code",
      "source": [
        "color=input('Enter your favorite color : ')\n",
        "if(color=='red' or color=='green' or color=='blue'):\n",
        " print(f'Your favorite color {color} is a primary color')\n",
        "else:\n",
        "  print(f'Your favorite color {color} is not a primary color !')\n"
      ],
      "metadata": {
        "colab": {
          "base_uri": "https://localhost:8080/"
        },
        "id": "HGiQAJAjjWeh",
        "outputId": "d2571d43-d24c-4374-a87a-14c4acc778b5"
      },
      "execution_count": null,
      "outputs": [
        {
          "output_type": "stream",
          "name": "stdout",
          "text": [
            "Enter your favorite color : violet\n",
            "Your favorite color violet is not a primary color !\n"
          ]
        }
      ]
    },
    {
      "cell_type": "code",
      "source": [
        "mfg=input('Enter the manufacturing date like this (dd/mm/yyyy) :')\n",
        "date=int(mfg.split('/')[0])\n",
        "month=int(mfg.split('/')[1])\n",
        "year=int(mfg.split('/')[2])\n",
        "cur_month=8\n",
        "if(year!=2025 or month+6<cur_month):\n",
        "  print('The product has expired !')\n",
        "else:\n",
        "  print('The product has\\'nt expired')\n",
        "\n",
        "\n"
      ],
      "metadata": {
        "colab": {
          "base_uri": "https://localhost:8080/"
        },
        "id": "TmudbS6jk864",
        "outputId": "435fe1fc-fddc-4cbf-fa30-14db911bae43"
      },
      "execution_count": null,
      "outputs": [
        {
          "output_type": "stream",
          "name": "stdout",
          "text": [
            "Enter the manufacturing date like this (dd/mm/yyyy) :12/8/2024\n",
            "The product has expired !\n"
          ]
        }
      ]
    },
    {
      "cell_type": "code",
      "source": [
        "num1=input('Enter the first number: ')\n",
        "num2=input('Enter the second number: ')\n",
        "num3=input('Enter the third number: ')\n",
        "if(num1>num2 and num1>num3):\n",
        "  print(f'{num1} is greater !')\n",
        "elif(num2>num3 and num2>num1):\n",
        "  print(f'{num2} is greater')\n",
        "elif(num3>num1 and num3>num2):\n",
        "  print(f'{num35} is greater')\n",
        "else:\n",
        "  print('errorr')"
      ],
      "metadata": {
        "colab": {
          "base_uri": "https://localhost:8080/"
        },
        "id": "NZKLCos1w14_",
        "outputId": "0039508f-c324-4819-d708-349980e6e3e3"
      },
      "execution_count": null,
      "outputs": [
        {
          "output_type": "stream",
          "name": "stdout",
          "text": [
            "Enter the first number: 12\n",
            "Enter the second number: 5464534\n",
            "Enter the third number: 745455454545\n",
            "745455454545 is greater\n"
          ]
        }
      ]
    },
    {
      "cell_type": "markdown",
      "source": [
        "String Formating"
      ],
      "metadata": {
        "id": "esf73-9S0Qx8"
      }
    },
    {
      "cell_type": "code",
      "source": [
        "print('this is {} and this is {}'.format('a','b'))\n",
        "print('This is {1} and this is {0}'.format('1','2'))\n",
        "print(f'This is {\"s\"} and this is {7}')"
      ],
      "metadata": {
        "colab": {
          "base_uri": "https://localhost:8080/"
        },
        "id": "XpmExbJV0x03",
        "outputId": "a0f30566-6db3-43a0-cbe8-c81fead70926"
      },
      "execution_count": null,
      "outputs": [
        {
          "output_type": "stream",
          "name": "stdout",
          "text": [
            "this is a and this is b\n",
            "This is 2 and this is 1\n",
            "This is s and this is 7\n"
          ]
        }
      ]
    },
    {
      "cell_type": "code",
      "source": [
        "pi=3.14159625\n",
        "print(f'pi contain {pi:.1f}')\n",
        "print(f'pi contain {pi:.2f}')\n",
        "print(f'pi contain {pi:.3f}')\n",
        "print(f'pi contain {pi:.4f}')\n",
        "print(f'pi contain {pi:.5f}')"
      ],
      "metadata": {
        "colab": {
          "base_uri": "https://localhost:8080/"
        },
        "id": "fHQ1BjHk2DaG",
        "outputId": "cd87a7bb-34db-4852-acfe-2d9fcaa03f2e"
      },
      "execution_count": null,
      "outputs": [
        {
          "output_type": "stream",
          "name": "stdout",
          "text": [
            "pi contain 3.1\n",
            "pi contain 3.14\n",
            "pi contain 3.142\n",
            "pi contain 3.1416\n",
            "pi contain 3.14160\n"
          ]
        }
      ]
    },
    {
      "cell_type": "markdown",
      "source": [
        "## Multivariable Assaignment"
      ],
      "metadata": {
        "id": "oFMX9SP626ue"
      }
    },
    {
      "cell_type": "code",
      "source": [
        "name,age,location= 'nikhil',25,'Idukki'\n",
        "print(name)\n",
        "print(age)\n",
        "print(location)"
      ],
      "metadata": {
        "colab": {
          "base_uri": "https://localhost:8080/"
        },
        "id": "BaAzGo483DJ_",
        "outputId": "6498c22e-b439-46a8-e81d-96a30dc34e74"
      },
      "execution_count": null,
      "outputs": [
        {
          "output_type": "stream",
          "name": "stdout",
          "text": [
            "nikhil\n",
            "25\n",
            "Idukki\n"
          ]
        }
      ]
    },
    {
      "cell_type": "code",
      "source": [
        "day=input('Enter the day :')\n",
        "days=['sunday','monday','tuesday','wednesday','thursday','friday','saturday']\n",
        "if(day not in days):\n",
        "  print('Invalid Day!')\n",
        "else:\n",
        "  if(day=='saturday' or day=='sunday'):\n",
        "    print('Its a Holiday !')\n",
        "  else:\n",
        "    print('Its not a Holiday!')\n",
        "\n"
      ],
      "metadata": {
        "colab": {
          "base_uri": "https://localhost:8080/"
        },
        "id": "mTUgAMM36WIj",
        "outputId": "f772f264-4384-4d5b-bb3b-712b83c1fde1"
      },
      "execution_count": null,
      "outputs": [
        {
          "output_type": "stream",
          "name": "stdout",
          "text": [
            "Enter the daybirthday\n",
            "Invalid Day!\n"
          ]
        }
      ]
    },
    {
      "cell_type": "code",
      "source": [
        "print('Hello','There',sep='---')"
      ],
      "metadata": {
        "colab": {
          "base_uri": "https://localhost:8080/"
        },
        "id": "om92IvFQ8HAK",
        "outputId": "87ed83be-e0c2-4d8f-ffc6-edc2b53949dd"
      },
      "execution_count": null,
      "outputs": [
        {
          "output_type": "stream",
          "name": "stdout",
          "text": [
            "Hello---There\n"
          ]
        }
      ]
    },
    {
      "cell_type": "code",
      "source": [
        "print('One')\n",
        "print('Two',end='--')\n",
        "print('Three')"
      ],
      "metadata": {
        "colab": {
          "base_uri": "https://localhost:8080/"
        },
        "id": "yrfy7CXc8f8z",
        "outputId": "973b05ab-a7ea-494a-a164-5713d472672b"
      },
      "execution_count": null,
      "outputs": [
        {
          "output_type": "stream",
          "name": "stdout",
          "text": [
            "One\n",
            "Two--Three\n"
          ]
        }
      ]
    },
    {
      "cell_type": "code",
      "source": [
        "import keyword\n",
        "print(keyword.kwlist)"
      ],
      "metadata": {
        "colab": {
          "base_uri": "https://localhost:8080/"
        },
        "id": "HGk4M3NL_DOe",
        "outputId": "3fc0bfe3-024c-4bb1-8ce2-38ed5509e9c8"
      },
      "execution_count": null,
      "outputs": [
        {
          "output_type": "stream",
          "name": "stdout",
          "text": [
            "['False', 'None', 'True', 'and', 'as', 'assert', 'async', 'await', 'break', 'class', 'continue', 'def', 'del', 'elif', 'else', 'except', 'finally', 'for', 'from', 'global', 'if', 'import', 'in', 'is', 'lambda', 'nonlocal', 'not', 'or', 'pass', 'raise', 'return', 'try', 'while', 'with', 'yield']\n"
          ]
        }
      ]
    },
    {
      "cell_type": "code",
      "source": [
        "a = 54\n",
        "print(type(a))\n",
        "b = str (a)\n",
        "print(b,type(b))"
      ],
      "metadata": {
        "colab": {
          "base_uri": "https://localhost:8080/"
        },
        "id": "l_NesEkJAbcN",
        "outputId": "1038de8f-ace0-41d7-be2d-02f15c507561"
      },
      "execution_count": null,
      "outputs": [
        {
          "output_type": "stream",
          "name": "stdout",
          "text": [
            "<class 'int'>\n",
            "54 <class 'str'>\n"
          ]
        }
      ]
    },
    {
      "cell_type": "code",
      "source": [
        "integer_1 = 3\n",
        "float_1 = 2.7\n",
        "string_1 = \"24\"\n",
        "list_1 = [1,2,3,4]\n",
        "tuple_1 = (1,2,3,4,5)"
      ],
      "metadata": {
        "id": "w7WcvWIDAxbg"
      },
      "execution_count": null,
      "outputs": []
    },
    {
      "cell_type": "code",
      "source": [
        "#int to string\n",
        "print(type(str(integer_1)))\n",
        "#int to float\n",
        "print(type(float(integer_1)))\n",
        "#string to int\n",
        "print(type(int(string_1)))\n",
        "#string to float\n",
        "print(type(float(string_1)))\n",
        "#float to string\n",
        "print(type(str(float_1)))\n",
        "#float to int\n",
        "print(type(int(float_1)))\n",
        "\n",
        "#list to tuple\n",
        "print(type(tuple(list_1)))\n",
        "#tuple to list\n",
        "print(type(list(tuple_1)))\n",
        "\n"
      ],
      "metadata": {
        "colab": {
          "base_uri": "https://localhost:8080/"
        },
        "id": "CYImZZUvBD0C",
        "outputId": "60d85b14-b8d7-4162-eac6-620e0d5b675d"
      },
      "execution_count": null,
      "outputs": [
        {
          "output_type": "stream",
          "name": "stdout",
          "text": [
            "<class 'str'>\n",
            "<class 'float'>\n",
            "<class 'int'>\n",
            "<class 'float'>\n",
            "<class 'str'>\n",
            "<class 'int'>\n",
            "<class 'tuple'>\n",
            "<class 'list'>\n"
          ]
        }
      ]
    },
    {
      "cell_type": "code",
      "source": [
        "\n",
        "integer_2 = int(string_1)\n",
        "type(integer_2)"
      ],
      "metadata": {
        "colab": {
          "base_uri": "https://localhost:8080/"
        },
        "id": "w9svk4jdBRVn",
        "outputId": "fd176fd6-8086-4b3a-d21b-b676300a6819"
      },
      "execution_count": null,
      "outputs": [
        {
          "output_type": "execute_result",
          "data": {
            "text/plain": [
              "int"
            ]
          },
          "metadata": {},
          "execution_count": 80
        }
      ]
    },
    {
      "cell_type": "code",
      "source": [
        "x = [1,2,3]\n",
        "x.append(4)\n",
        "print(x)\n",
        "\n",
        "x.extend([5,6,7])\n",
        "print(x)\n",
        "\n",
        "x.remove(2)\n",
        "print(x)\n",
        "\n",
        "x.insert(0, 10)\n",
        "print(x)\n",
        "\n",
        "x.reverse()\n",
        "print(x)\n",
        "\n",
        "x.sort()\n",
        "print(x)\n",
        "\n",
        "e = x.pop(0)\n",
        "print(e, x)\n",
        "\n",
        "x.clear()\n",
        "print(x)"
      ],
      "metadata": {
        "colab": {
          "base_uri": "https://localhost:8080/"
        },
        "id": "a6TZcEuuCnOP",
        "outputId": "e2939bf5-cf2d-4fef-85a9-42e848dcfcc3"
      },
      "execution_count": null,
      "outputs": [
        {
          "output_type": "stream",
          "name": "stdout",
          "text": [
            "[1, 2, 3, 4]\n",
            "[1, 2, 3, 4, 5, 6, 7]\n",
            "[1, 3, 4, 5, 6, 7]\n",
            "[10, 1, 3, 4, 5, 6, 7]\n",
            "[7, 6, 5, 4, 3, 1, 10]\n",
            "[1, 3, 4, 5, 6, 7, 10]\n",
            "1 [3, 4, 5, 6, 7, 10]\n",
            "[]\n"
          ]
        }
      ]
    },
    {
      "cell_type": "markdown",
      "source": [
        "### Write a code to convert date format from dd/mm/yyyy to\n",
        "### -mm-dd-yyyy\n",
        "### -dd-mm-yyyy\n",
        "### -yyyy-dd-mm\n",
        "\n",
        "\n",
        "\n"
      ],
      "metadata": {
        "id": "GZjcLyQ1EBfj"
      }
    },
    {
      "cell_type": "code",
      "source": [
        "date=input('Enter the date (dd/mm/yyyy)').split('/')\n",
        "day=date[0]\n",
        "month=date[1]\n",
        "year=date[2]\n",
        "print('-'.join([month,day,year]))\n",
        "print('-'.join([day,month,year]))\n",
        "print('|'.join([year,day,month]))\n",
        "#.join() is used for joining String values\n"
      ],
      "metadata": {
        "colab": {
          "base_uri": "https://localhost:8080/"
        },
        "id": "MNBwhs2RE3xv",
        "outputId": "d9d3cb27-78a8-4e67-c546-7aba8ca5a31e"
      },
      "execution_count": null,
      "outputs": [
        {
          "output_type": "stream",
          "name": "stdout",
          "text": [
            "Enter the date (dd/mm/yyyy)09/12/2004\n",
            "12-09-2004\n",
            "09-12-2004\n",
            "2004|09|12\n"
          ]
        }
      ]
    }
  ]
}