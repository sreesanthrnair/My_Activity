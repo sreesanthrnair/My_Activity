{
  "nbformat": 4,
  "nbformat_minor": 0,
  "metadata": {
    "colab": {
      "provenance": [],
      "authorship_tag": "ABX9TyObYPcxhVajB/nyxsLkQRbS",
      "include_colab_link": true
    },
    "kernelspec": {
      "name": "python3",
      "display_name": "Python 3"
    },
    "language_info": {
      "name": "python"
    }
  },
  "cells": [
    {
      "cell_type": "markdown",
      "metadata": {
        "id": "view-in-github",
        "colab_type": "text"
      },
      "source": [
        "<a href=\"https://colab.research.google.com/github/sreesanthrnair/My_Activity/blob/main/Python_Addnl_Assessment_sreesanth.ipynb\" target=\"_parent\"><img src=\"https://colab.research.google.com/assets/colab-badge.svg\" alt=\"Open In Colab\"/></a>"
      ]
    },
    {
      "cell_type": "code",
      "execution_count": 4,
      "metadata": {
        "colab": {
          "base_uri": "https://localhost:8080/"
        },
        "id": "h6MWgUVnz7VJ",
        "outputId": "5424c2e6-fe7c-440a-aa6d-eb1cf1015a03"
      },
      "outputs": [
        {
          "output_type": "stream",
          "name": "stdout",
          "text": [
            "Enter items and price below:\n",
            "Enter done to exit\n",
            "Enter item and price: basumathirice 550\n",
            "Enter item and price: done\n",
            "Total is 495.0.\n"
          ]
        }
      ],
      "source": [
        "# 1. Grocery Store Billing\n",
        "# A grocery store wants to automate billing.\n",
        "# ● Take the names and prices of items from the user until they type \"done\".\n",
        "# ● Print the total bill.\n",
        "# ● If total bill > ₹500, apply 10% discount.\n",
        "\n",
        "print('Enter items and price below:')\n",
        "print('Enter done to exit')\n",
        "total = 0\n",
        "while True:\n",
        "    item_price = input('Enter item and price: ')\n",
        "    if item_price == 'done':\n",
        "        break\n",
        "    else:\n",
        "        total += int(item_price.split(' ')[1])\n",
        "if total >= 500:\n",
        "    print(f'Total is {total - (0.1 * total)}.')\n",
        "else:\n",
        "    print(f'Total is {total}')"
      ]
    },
    {
      "cell_type": "code",
      "source": [
        "# 2. Exam Result Calculator\n",
        "# A school stores student marks in a list.\n",
        "# ● Input marks for 5 subjects.\n",
        "# ● Calculate percentage.\n",
        "# ● Print grade:\n",
        "# ○ ≥ 90: A\n",
        "# ○ ≥ 75: B\n",
        "# ○ ≥ 50: C\n",
        "# ○ else: Fail\n",
        "\n",
        "my_list=[]\n",
        "for i in range(5):\n",
        "  sub=int(input('Enter the subjects :'))\n",
        "  my_list.append(sub)\n",
        "total=sum(my_list)\n",
        "percentage=(total/500)*100\n",
        "if(percentage>90):\n",
        "  Grade='A'\n",
        "elif(percentage>=75):\n",
        "  Grade='B'\n",
        "elif(percentage>=50):\n",
        "  Grade='C'\n",
        "else:\n",
        "  Grade='Fail'\n",
        "print(f'Percentage is {percentage:.2f} and  Garde {Grade}')\n"
      ],
      "metadata": {
        "colab": {
          "base_uri": "https://localhost:8080/"
        },
        "id": "9zAP3UN2JtBu",
        "outputId": "2fc0c476-efe0-4553-a289-8f91914787ca"
      },
      "execution_count": 9,
      "outputs": [
        {
          "output_type": "stream",
          "name": "stdout",
          "text": [
            "Enter the subjects :90\n",
            "Enter the subjects :90\n",
            "Enter the subjects :92\n",
            "Enter the subjects :95\n",
            "Enter the subjects :93\n",
            "Percentage is 92.00 and  Garde A\n"
          ]
        }
      ]
    },
    {
      "cell_type": "code",
      "source": [
        "# 3. ATM Simulation\n",
        "# Simulate an ATM with:\n",
        "# ● Starting balance = ₹1000\n",
        "# ● Options: Deposit, Withdraw, Check balance, Exit\n",
        "# ● Prevent withdrawal if funds are insufficient.\n",
        "balance=1000\n",
        "while True:\n",
        "  print('Menu')\n",
        "  print('1.Deposit.')\n",
        "  print('2.Withdraw.')\n",
        "  print('3.Check Balance.')\n",
        "  print('4.Exit.')\n",
        "  choice=int(input('Enter your choice: '))\n",
        "  if(choice==1):\n",
        "      amount=float(input('Enter amount you want to deposit.'))\n",
        "      if(amount>0):\n",
        "        balance=amount+balance\n",
        "        print(f'{amount} is sucessfully updated ')\n",
        "      else:\n",
        "        print('Invalid amount check it once')\n",
        "  elif(choice==2):\n",
        "        amount=float(input('Enter your amount you want to Withdraw'))\n",
        "        if(amount>balance):\n",
        "          print('Insufficient funds')\n",
        "        elif(amount>0):\n",
        "          balance=balance-amount\n",
        "          print(f'{amount} Withdraw Sucessfully')\n",
        "        else:\n",
        "          print('Withdraw Sucessfully Failed !')\n",
        "  elif(choice==3):\n",
        "          print(f'Your current balance is {balance}')\n",
        "  elif(choice==4):\n",
        "          print('Exiting ! Thanku for use ATM Have a  good day')\n",
        "          break\n",
        "  else:\n",
        "          print('Invalid Choice!, Enter correct choice')"
      ],
      "metadata": {
        "colab": {
          "base_uri": "https://localhost:8080/"
        },
        "id": "bIglQxJSSsNs",
        "outputId": "f461f8a2-bb15-465b-8884-9be445793abd"
      },
      "execution_count": 16,
      "outputs": [
        {
          "output_type": "stream",
          "name": "stdout",
          "text": [
            "Menu\n",
            "1.Deposit.\n",
            "2.Withdraw.\n",
            "3.Check Balance.\n",
            "4.Exit.\n",
            "Enter your choice: 2\n",
            "Enter your amount you want to Withdraw1200\n",
            "Insufficient funds\n",
            "Menu\n",
            "1.Deposit.\n",
            "2.Withdraw.\n",
            "3.Check Balance.\n",
            "4.Exit.\n",
            "Enter your choice: 4\n",
            "Exiting ! Thanku for use ATM Have a  good day\n"
          ]
        }
      ]
    },
    {
      "cell_type": "code",
      "source": [
        "# 4. Cricket Score Tracker\n",
        "# Store player scores in a dictionary.\n",
        "# ● Add 5 players with scores.\n",
        "# ● Find and print top scorer’s name and score.\n",
        "# ● Update a player’s score after a match.\n",
        "\n",
        "scores = {'Dhoni': 70, 'Sachin': 80, 'Virat': 67, 'Rohit': 71, 'Hardik': 76}\n",
        "highest = max(scores, key=scores.get)\n",
        "print(f\"Highest score is {highest} with {scores[highest]} runs.\")\n",
        "player = input(\"Enter player name to update score: \")\n",
        "if player in scores:\n",
        "    new_score = int(input(f\"Enter new score for {player}: \"))\n",
        "    scores[player] = new_score\n",
        "    print(f\"{player}'s score updated successfully.\")\n",
        "else:\n",
        "    print(\"Player not found.\")\n",
        "print(\"\\nUpdated Scores:\")\n",
        "for name, score in scores.items():\n",
        "    print(f\"{name}: {score}\")\n"
      ],
      "metadata": {
        "colab": {
          "base_uri": "https://localhost:8080/"
        },
        "id": "-sbqWL6DdrsN",
        "outputId": "c3b0bbcf-3a98-487f-acd7-0c9d0890d6da"
      },
      "execution_count": 20,
      "outputs": [
        {
          "output_type": "stream",
          "name": "stdout",
          "text": [
            "Highest score is Sachin with 80 runs.\n",
            "Enter player name to update score: Sachin\n",
            "Enter new score for Sachin: 90\n",
            "Sachin's score updated successfully.\n",
            "\n",
            "Updated Scores:\n",
            "Dhoni: 70\n",
            "Sachin: 90\n",
            "Virat: 67\n",
            "Rohit: 71\n",
            "Hardik: 76\n"
          ]
        }
      ]
    },
    {
      "cell_type": "code",
      "source": [
        "# 5. Restaurant Order System\n",
        "# ● Menu stored in dictionary (item: price).\n",
        "# ● Take multiple orders from user.\n",
        "# ● Print final bill amount.\n",
        "# ● If order contains \"Pizza\", give ₹50 off.\n",
        "\n",
        "# Step 1: Menu dictionary\n",
        "menu = {\n",
        "    \"Pizza\": 300,\n",
        "    \"Burger\": 150,\n",
        "    \"Pasta\": 200,\n",
        "    \"Fries\": 100,\n",
        "    \"Coke\": 50\n",
        "}\n",
        "\n",
        "order_list = []   # To keep track of ordered items\n",
        "total_bill = 0\n",
        "\n",
        "print(\"---- Welcome to the Restaurant ----\")\n",
        "print(\"Menu:\", menu)\n",
        "print(\"Type 'done' when you finish ordering.\\n\")\n",
        "\n",
        "while True:\n",
        "    item = input(\"Enter item name: \").title()\n",
        "    if item.lower() == \"done\":\n",
        "        break\n",
        "    if item in menu:\n",
        "        total_bill += menu[item]\n",
        "        order_list.append(item)\n",
        "        print(f\"{item} added! Current total: ₹{total_bill}\")\n",
        "    else:\n",
        "        print(\"Item not available!\")\n",
        "\n",
        "if \"Pizza\" in order_list:\n",
        "    print(\"Pizza ordered! ₹50 discount applied.\")\n",
        "    total_bill -= 50\n",
        "\n",
        "print(\"\\nYour final bill is: ₹\", total_bill)\n"
      ],
      "metadata": {
        "colab": {
          "base_uri": "https://localhost:8080/"
        },
        "id": "aPskX1jqsT_l",
        "outputId": "5b96dd19-d494-40c6-cf8d-7feeecf5823b"
      },
      "execution_count": 21,
      "outputs": [
        {
          "output_type": "stream",
          "name": "stdout",
          "text": [
            "---- Welcome to the Restaurant ----\n",
            "Menu: {'Pizza': 300, 'Burger': 150, 'Pasta': 200, 'Fries': 100, 'Coke': 50}\n",
            "Type 'done' when you finish ordering.\n",
            "\n",
            "Enter item name: Burger\n",
            "Burger added! Current total: ₹150\n",
            "Enter item name: Pizza\n",
            "Pizza added! Current total: ₹450\n",
            "Enter item name: done\n",
            "Pizza ordered! ₹50 discount applied.\n",
            "\n",
            "Your final bill is: ₹ 400\n"
          ]
        }
      ]
    },
    {
      "cell_type": "code",
      "source": [
        "# 6. Temperature Conversion Tool\n",
        "# Write a program that:\n",
        "# ● Asks user for temperature in Celsius.\n",
        "# ● Converts to Fahrenheit using formula:\n",
        "celsius = float(input(\"Enter temperature in Celsius: \"))\n",
        "fahrenheit = (celsius * 9/5) + 32\n",
        "print(f\"{celsius}°C is equal to {fahrenheit}°F\")\n"
      ],
      "metadata": {
        "colab": {
          "base_uri": "https://localhost:8080/"
        },
        "id": "D_m-qQNPy2nS",
        "outputId": "c837d98f-32bb-4893-c2f0-eaf96885f59a"
      },
      "execution_count": 22,
      "outputs": [
        {
          "output_type": "stream",
          "name": "stdout",
          "text": [
            "Enter temperature in Celsius: 30\n",
            "30.0°C is equal to 86.0°F\n"
          ]
        }
      ]
    },
    {
      "cell_type": "code",
      "source": [
        "# 7. Online Shopping Cart\n",
        "# ● Create a cart as a list.\n",
        "# ● Allow user to add items, remove items, and view cart.\n",
        "# ● Exit when user types \"checkout\".\n",
        "cart = []  # Empty cart initially\n",
        "\n",
        "while True:\n",
        "    print(\"\\nChoose an option: add / remove / view / checkout\")\n",
        "    action = input(\"Enter your choice: \").lower()\n",
        "\n",
        "    if action == \"add\":\n",
        "        item = input(\"Enter item to add: \")\n",
        "        cart.append(item)\n",
        "        print(f\"{item} added to your cart.\")\n",
        "\n",
        "    elif action == \"remove\":\n",
        "        item = input(\"Enter item to remove: \")\n",
        "        if item in cart:\n",
        "            cart.remove(item)\n",
        "            print(f\"{item} removed from your cart.\")\n",
        "        else:\n",
        "            print(f\"{item} is not in the cart.\")\n",
        "\n",
        "    elif action == \"view\":\n",
        "        if cart:\n",
        "            print(\"Your cart contains:\", cart)\n",
        "        else:\n",
        "            print(\"Your cart is empty.\")\n",
        "\n",
        "    elif action == \"checkout\":\n",
        "        print(\"Final cart:\", cart)\n",
        "        print(\"Thank you for shopping!\")\n",
        "        break\n",
        "\n",
        "    else:\n",
        "        print(\"Invalid choice, please enter add/remove/view/checkout.\")\n"
      ],
      "metadata": {
        "colab": {
          "base_uri": "https://localhost:8080/"
        },
        "id": "xhog8tM9zc-g",
        "outputId": "a0f5c83d-09a3-4f6f-ccda-808278c4ccd6"
      },
      "execution_count": 24,
      "outputs": [
        {
          "output_type": "stream",
          "name": "stdout",
          "text": [
            "\n",
            "Choose an option: add / remove / view / checkout\n",
            "Enter your choice: add\n",
            "Enter item to add: pen\n",
            "pen added to your cart.\n",
            "\n",
            "Choose an option: add / remove / view / checkout\n",
            "Enter your choice: add\n",
            "Enter item to add: pencil\n",
            "pencil added to your cart.\n",
            "\n",
            "Choose an option: add / remove / view / checkout\n",
            "Enter your choice: add\n",
            "Enter item to add: book\n",
            "book added to your cart.\n",
            "\n",
            "Choose an option: add / remove / view / checkout\n",
            "Enter your choice: remove\n",
            "Enter item to remove: pencil\n",
            "pencil removed from your cart.\n",
            "\n",
            "Choose an option: add / remove / view / checkout\n",
            "Enter your choice: view\n",
            "Your cart contains: ['pen', 'book']\n",
            "\n",
            "Choose an option: add / remove / view / checkout\n",
            "Enter your choice: checkout\n",
            "Final cart: ['pen', 'book']\n",
            "Thank you for shopping!\n"
          ]
        }
      ]
    },
    {
      "cell_type": "code",
      "source": [
        "# 8. Student Attendance Tracker\n",
        "# ● Store student names in a list.\n",
        "# ● Mark attendance as P or A.\n",
        "# ● Print the total number of present and absent students.\n",
        "\n",
        "students = [\"Sreesanth\", \"Nikhil\", \"Saketh\", \"Rohit\", \"Hardhik\"]\n",
        "\n",
        "present_count = 0\n",
        "absent_count = 0\n",
        "\n",
        "for student in students:\n",
        "    attendance = input(f\"Mark attendance for {student} (P/A): \").strip().upper()\n",
        "\n",
        "    if attendance == \"P\":\n",
        "        present_count += 1\n",
        "    elif attendance == \"A\":\n",
        "        absent_count += 1\n",
        "    else:\n",
        "        print(\"Invalid input! Counting as Absent.\")\n",
        "        absent_count += 1\n",
        "\n",
        "print(\"\\nAttendance Summary:\")\n",
        "print(f\"Total Present Students: {present_count}\")\n",
        "print(f\"Total Absent Students: {absent_count}\")\n"
      ],
      "metadata": {
        "colab": {
          "base_uri": "https://localhost:8080/"
        },
        "id": "WpHOWKy03s53",
        "outputId": "545ccc89-c5ef-43b9-aede-689772b4d319"
      },
      "execution_count": 29,
      "outputs": [
        {
          "output_type": "stream",
          "name": "stdout",
          "text": [
            "Mark attendance for Sreesanth (P/A): p\n",
            "Mark attendance for Nikhil (P/A): p\n",
            "Mark attendance for Saketh (P/A): a\n",
            "Mark attendance for Rohit (P/A): p\n",
            "Mark attendance for Hardhik (P/A): a\n",
            "\n",
            "Attendance Summary:\n",
            "Total Present Students: 3\n",
            "Total Absent Students: 2\n"
          ]
        }
      ]
    },
    {
      "cell_type": "code",
      "source": [
        "# 9. Cinema Ticket Booking System\n",
        "# Create a program where users can book movie tickets. A theater has 50 seats in total. Each\n",
        "# ticket costs ₹120.\n",
        "# ● Ask the user how many tickets they want.\n",
        "# ● If enough seats are available → confirm booking and reduce available seats.\n",
        "# ● If not enough seats → show an error message.\n",
        "# ● Show remaining seats after each booking.\n",
        "total_seats = 50\n",
        "ticket_price = 120\n",
        "\n",
        "while total_seats > 0:\n",
        "    print(f\"\\nAvailable seats: {total_seats}\")\n",
        "    tickets = int(input(\"How many tickets do you want? (Enter 0 to exit): \"))\n",
        "\n",
        "    if tickets == 0:\n",
        "        print(\"Booking ended. Thank you!\")\n",
        "        break\n",
        "\n",
        "    if tickets <= total_seats:\n",
        "        total_cost = tickets * ticket_price\n",
        "        print(f\"Booking confirmed! You booked {tickets} tickets for ₹{total_cost}.\")\n",
        "        total_seats -= tickets\n",
        "    else:\n",
        "        print(\"Sorry, not enough seats available!\")\n",
        "\n",
        "    if total_seats == 0:\n",
        "        print(\"All seats are booked! Booking closed.\")\n"
      ],
      "metadata": {
        "colab": {
          "base_uri": "https://localhost:8080/"
        },
        "id": "l_Y53fn34ay3",
        "outputId": "7766abc3-6922-41c3-9362-ac1c2b5be3d1"
      },
      "execution_count": 32,
      "outputs": [
        {
          "output_type": "stream",
          "name": "stdout",
          "text": [
            "\n",
            "Available seats: 50\n",
            "How many tickets do you want? (Enter 0 to exit): 2\n",
            "Booking confirmed! You booked 2 tickets for ₹240.\n",
            "\n",
            "Available seats: 48\n",
            "How many tickets do you want? (Enter 0 to exit): 0\n",
            "Booking ended. Thank you!\n"
          ]
        }
      ]
    },
    {
      "cell_type": "code",
      "source": [
        "# 10. Bank Loan Eligibility Checker\n",
        "# A bank provides loans only if:\n",
        "# ● Salary ≥ 25,000\n",
        "# ● Credit Score ≥ 650\n",
        "# ● Age between 21 and 60\n",
        "# Ask the user for salary, credit score, and age, then decide if they are eligible.\n",
        "salary = float(input(\"Enter your monthly salary: \"))\n",
        "\n",
        "credit_score = int(input(\"Enter your credit score: \"))\n",
        "\n",
        "age = int(input(\"Enter your age: \"))\n",
        "\n",
        "if salary >= 25000 and credit_score >= 650 and 21 <= age <= 60:\n",
        "    print(\"Congratulations! You are eligible for the loan.\")\n",
        "else:\n",
        "    print(\"Sorry, you are not eligible for the loan.\")\n"
      ],
      "metadata": {
        "colab": {
          "base_uri": "https://localhost:8080/"
        },
        "id": "xoX1muNg51yJ",
        "outputId": "44339872-f9ce-4e5a-a685-fd0b4b13e7d3"
      },
      "execution_count": 34,
      "outputs": [
        {
          "output_type": "stream",
          "name": "stdout",
          "text": [
            "Enter your monthly salary: 50000\n",
            "Enter your credit score: 670\n",
            "Enter your age: 25\n",
            "Congratulations! You are eligible for the loan.\n"
          ]
        }
      ]
    }
  ]
}