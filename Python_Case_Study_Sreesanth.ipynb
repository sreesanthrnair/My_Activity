{
  "nbformat": 4,
  "nbformat_minor": 0,
  "metadata": {
    "colab": {
      "provenance": [],
      "include_colab_link": true
    },
    "kernelspec": {
      "name": "python3",
      "display_name": "Python 3"
    },
    "language_info": {
      "name": "python"
    }
  },
  "cells": [
    {
      "cell_type": "markdown",
      "metadata": {
        "id": "view-in-github",
        "colab_type": "text"
      },
      "source": [
        "<a href=\"https://colab.research.google.com/github/sreesanthrnair/My_Activity/blob/main/Python_Case_Study_Sreesanth.ipynb\" target=\"_parent\"><img src=\"https://colab.research.google.com/assets/colab-badge.svg\" alt=\"Open In Colab\"/></a>"
      ]
    },
    {
      "cell_type": "markdown",
      "source": [
        "# Answer the following questions using only builtin Python datatypes and functions. Do not use Numpy or Scipy (i.e. No library imports allowed)"
      ],
      "metadata": {
        "id": "zVV_KMSIUG-A"
      }
    },
    {
      "cell_type": "markdown",
      "source": [
        "# Q1. Write a function that return the range (maximum and minimun) of a given list of numbers"
      ],
      "metadata": {
        "id": "uZnK7VgWV5SI"
      }
    },
    {
      "cell_type": "code",
      "source": [
        "my_list=[1,2,4,3,5,7,8,9]\n",
        "def max_min(my_list):\n",
        "  max=my_list[0]\n",
        "  min=my_list[0]\n",
        "  for i in  (my_list):\n",
        "    if(i>max):\n",
        "      max=i\n",
        "    if(i<min):\n",
        "      min=i\n",
        "  return(max,min)\n",
        "max_min(my_list)"
      ],
      "metadata": {
        "id": "vuAbJQcOWAM7",
        "colab": {
          "base_uri": "https://localhost:8080/"
        },
        "outputId": "7cba1575-d376-4471-f9ed-a8fb1733c9ad"
      },
      "execution_count": 3,
      "outputs": [
        {
          "output_type": "execute_result",
          "data": {
            "text/plain": [
              "(9, 1)"
            ]
          },
          "metadata": {},
          "execution_count": 3
        }
      ]
    },
    {
      "cell_type": "markdown",
      "source": [
        "## Q2. Write function that returns mean value of a list of numbers"
      ],
      "metadata": {
        "id": "Y5_v5a8_U1O-"
      }
    },
    {
      "cell_type": "code",
      "source": [
        "def mean(data):\n",
        "    find_mean = sum(data) / len(data)\n",
        "    return f'Mean is {find_mean}'\n",
        "numbers = [5, 8, 2, 7, 3, 8, 10]\n",
        "print(mean(numbers))\n"
      ],
      "metadata": {
        "id": "RajjEyacU7Sc",
        "outputId": "878930b5-04e9-43a3-b2ad-e43e8ff9c949",
        "colab": {
          "base_uri": "https://localhost:8080/"
        }
      },
      "execution_count": 5,
      "outputs": [
        {
          "output_type": "stream",
          "name": "stdout",
          "text": [
            "Mean is 6.142857142857143\n"
          ]
        }
      ]
    },
    {
      "cell_type": "markdown",
      "source": [
        "# Q3. Write a function that returns the median value of a list of numbers"
      ],
      "metadata": {
        "id": "OpeRxoEoVTIP"
      }
    },
    {
      "cell_type": "code",
      "source": [
        "def median(data):\n",
        "    data.sort()\n",
        "    n = len(data)\n",
        "    if n % 2 == 1:\n",
        "        median_value = data[n // 2]\n",
        "    else:\n",
        "        median_value = (data[n // 2 - 1] + data[n // 2]) / 2\n",
        "    return f'Median is {median_value}'\n",
        "data = [5, 8, 2, 7, 3, 8, 10, 17]\n",
        "print(median(data))\n"
      ],
      "metadata": {
        "id": "u1CUy0UOVaQi",
        "colab": {
          "base_uri": "https://localhost:8080/"
        },
        "outputId": "e6fabfb9-5a63-44c1-f2b9-308f8347e2e4"
      },
      "execution_count": 16,
      "outputs": [
        {
          "output_type": "stream",
          "name": "stdout",
          "text": [
            "Median is 7.5\n"
          ]
        }
      ]
    },
    {
      "cell_type": "markdown",
      "source": [
        "## Q4. Write a function to return the mod of a list of numbers, if no mod exists, it should return None. If more than one mod exist, return the mod values as list"
      ],
      "metadata": {
        "id": "2EMOG7AZSqVn"
      }
    },
    {
      "cell_type": "code",
      "execution_count": 18,
      "metadata": {
        "id": "qnMm2dhhSk3-",
        "colab": {
          "base_uri": "https://localhost:8080/"
        },
        "outputId": "13de6672-c360-4bbe-ba21-ca53c362f920"
      },
      "outputs": [
        {
          "output_type": "stream",
          "name": "stdout",
          "text": [
            "Modes: 3 7\n"
          ]
        }
      ],
      "source": [
        "def mode(data):\n",
        "    n = len(data)\n",
        "    count = 0\n",
        "    max_count = 0\n",
        "    flag = 1\n",
        "    mode_dict = {}\n",
        "    data.sort()\n",
        "    for i in data:\n",
        "        count = 0\n",
        "        for j in data:\n",
        "            if i == j:\n",
        "                count += 1\n",
        "        mode_dict[i] = count\n",
        "    for i in data:\n",
        "        if mode_dict[i] > max_count:\n",
        "            max_count = mode_dict[i]\n",
        "    modes_found = []\n",
        "    for key, value in mode_dict.items():\n",
        "        if value == max_count and value > 1:\n",
        "            modes_found.append(key)\n",
        "            flag = 0\n",
        "    if flag == 1:\n",
        "        return \"Modes: None\"\n",
        "    else:\n",
        "        return f\"Modes: {' '.join(map(str, modes_found))}\"\n",
        "data = [1, 3, 3, 10, 7, 7, 9, 180]\n",
        "print(mode(data))\n",
        "\n"
      ]
    },
    {
      "cell_type": "markdown",
      "source": [
        "## Q5. Write function to compute a given percentile value (e.g. 90th percentile) of a list of numbers"
      ],
      "metadata": {
        "id": "LcqWwqtgTCiL"
      }
    },
    {
      "cell_type": "code",
      "source": [
        "def find_percentile(data, percentile):\n",
        "    data.sort()\n",
        "    index = int(percentile * len(data))\n",
        "    return f'Percentile is {data[index]}'\n",
        "data = [4, 3, 6, 7, 8, 8, 9, 0, 5, 4, 3, 3, 2, 1, 2, 3, 41, 6, 66, 55, 44, 44, 33, 23, 21, 12, 56, 89, 76, 54, 34, 65, 38]\n",
        "percentile = 0.9\n",
        "print(sorted(data))\n",
        "print(find_percentile(data, percentile))\n",
        "\n",
        "\n"
      ],
      "metadata": {
        "id": "Sn307h0TTb2b",
        "colab": {
          "base_uri": "https://localhost:8080/"
        },
        "outputId": "940cec70-5fbb-48ea-b550-58bed00e0df5"
      },
      "execution_count": 19,
      "outputs": [
        {
          "output_type": "stream",
          "name": "stdout",
          "text": [
            "[0, 1, 2, 2, 3, 3, 3, 3, 4, 4, 5, 6, 6, 7, 8, 8, 9, 12, 21, 23, 33, 34, 38, 41, 44, 44, 54, 55, 56, 65, 66, 76, 89]\n",
            "Percentile is 65\n"
          ]
        }
      ]
    },
    {
      "cell_type": "markdown",
      "source": [
        "## Q6. Write a function that returns the lower bound of a list of numbers"
      ],
      "metadata": {
        "id": "uxTpG-3DWstO"
      }
    },
    {
      "cell_type": "code",
      "source": [
        "def lower_bnd(lst):\n",
        "    lst = sorted(lst)\n",
        "    n = len(lst)\n",
        "    q1_index = int(0.25 * (n + 1)) - 1\n",
        "    q3_index = int(0.75 * (n + 1)) - 1\n",
        "    q1 = lst[q1_index]\n",
        "    q3 = lst[q3_index]\n",
        "    iqr = q3 - q1\n",
        "    lower_bound = q1 - 1.5 * iqr\n",
        "    return lower_bound\n",
        "data = [6, 66, 55, 21, 10, 15, 99, 45]\n",
        "print(f\"Lower bound is {lower_bnd(data)}\")\n"
      ],
      "metadata": {
        "id": "Y-RKPdKuW5nx",
        "colab": {
          "base_uri": "https://localhost:8080/"
        },
        "outputId": "383466b2-a6af-4359-e6e8-617735ca7a40"
      },
      "execution_count": 20,
      "outputs": [
        {
          "output_type": "stream",
          "name": "stdout",
          "text": [
            "Lower bound is -57.5\n"
          ]
        }
      ]
    },
    {
      "cell_type": "markdown",
      "source": [
        "## Q7. Write function to return any outliers from a given list of numbers, if no outliers present it should return None"
      ],
      "metadata": {
        "id": "5aHfaI_jThpX"
      }
    },
    {
      "cell_type": "code",
      "source": [
        "def outliers(lst):\n",
        "    lst = sorted(lst)\n",
        "    n = len(lst)\n",
        "    q1_pos = 0.25 * (n + 1)\n",
        "    q3_pos = 0.75 * (n + 1)\n",
        "    def get_value(pos):\n",
        "        if pos.is_integer():\n",
        "            return lst[int(pos) - 1]\n",
        "        else:\n",
        "            lower = lst[int(pos) - 1]\n",
        "            upper = lst[int(pos)]\n",
        "            return lower + (upper - lower) * (pos % 1)\n",
        "\n",
        "    q1 = get_value(q1_pos)\n",
        "    q3 = get_value(q3_pos)\n",
        "\n",
        "    iqr = q3 - q1\n",
        "    l_b = q1 - 1.5 * iqr\n",
        "    u_b = q3 + 1.5 * iqr\n",
        "\n",
        "    return [x for x in lst if x < l_b or x > u_b] or None\n",
        "\n",
        "nums = [15, 8, 22, 10, 12, 16, 19, 10, 5, 8, 14, 25, 10, 18, 7, 11, 21, 13, 2, 14, 12]\n",
        "print(\"Outliers:\", outliers(nums))\n"
      ],
      "metadata": {
        "id": "gG6-qzT7T0Si",
        "outputId": "e298e625-994c-48d9-f902-18e69f18ce1a",
        "colab": {
          "base_uri": "https://localhost:8080/"
        }
      },
      "execution_count": 24,
      "outputs": [
        {
          "output_type": "stream",
          "name": "stdout",
          "text": [
            "Outliers: None\n"
          ]
        }
      ]
    },
    {
      "cell_type": "markdown",
      "source": [
        "##Q8. Write a function to return standard deviation of a list of numbers"
      ],
      "metadata": {
        "id": "jI9t-tcDT5EK"
      }
    },
    {
      "cell_type": "code",
      "source": [
        "def mean(lst):\n",
        "    return sum(lst) / len(lst)\n",
        "\n",
        "def stdeviation(lst):\n",
        "    mean_val = mean(lst)\n",
        "    xi_minus_mean_list = [xi - mean_val for xi in lst]\n",
        "    xi_minus_mean_squared_list = [num ** 2 for num in xi_minus_mean_list]\n",
        "    variance = sum(xi_minus_mean_squared_list) / len(lst)\n",
        "    standard_deviation = variance ** 0.5\n",
        "    return standard_deviation\n",
        "\n",
        "nums = [ 8, 22, 10, 12, 16, 19, 10, 5, 8, 14, 25, 10, 18, 7, 11, 21, 13, 2, 14, 12,5]\n",
        "print(\"Standard Deviation:\", stdeviation(nums))\n"
      ],
      "metadata": {
        "id": "MMU_cMlLUFxJ",
        "outputId": "84bfa764-7406-45ee-acf8-1f385693de4c",
        "colab": {
          "base_uri": "https://localhost:8080/"
        }
      },
      "execution_count": 27,
      "outputs": [
        {
          "output_type": "stream",
          "name": "stdout",
          "text": [
            "Standard Deviation: 5.868552572572913\n"
          ]
        }
      ]
    },
    {
      "cell_type": "markdown",
      "source": [
        "## Q9. Write function to compute and return Z-score values of a list of numbers"
      ],
      "metadata": {
        "id": "LufmQDJPURkM"
      }
    },
    {
      "cell_type": "code",
      "source": [
        "def mean(lst):\n",
        "    return sum(lst) / len(lst)\n",
        "def stdeviation(lst):\n",
        "    mean_val = mean(lst)\n",
        "    variance = sum((xi - mean_val) ** 2 for xi in lst) / len(lst)\n",
        "    return variance ** 0.5\n",
        "def z_scores(lst):\n",
        "    mean_val = mean(lst)\n",
        "    standard_deviation = stdeviation(lst)\n",
        "    return [(xi - mean_val) / standard_deviation for xi in lst]\n",
        "nums = [42, 17, 33, 8, 56, 29, 14, 63, 25, 37, 49, 52, 11, 66, 31, 47, 19, 58, 23, 40]\n",
        "print(\"Numbers:\", nums)\n",
        "print(\"Z-scores:\", z_scores(nums))\n"
      ],
      "metadata": {
        "id": "ml2qpSpFUYxV",
        "outputId": "ee11794a-9768-4a1c-8f2e-057c56432fb1",
        "colab": {
          "base_uri": "https://localhost:8080/"
        }
      },
      "execution_count": 28,
      "outputs": [
        {
          "output_type": "stream",
          "name": "stdout",
          "text": [
            "Numbers: [42, 17, 33, 8, 56, 29, 14, 63, 25, 37, 49, 52, 11, 66, 31, 47, 19, 58, 23, 40]\n",
            "Z-scores: [0.34560468919623477, -1.09441484912141, -0.17280234459811739, -1.6128218829157623, 1.1520156306541158, -0.4032054707289406, -1.2672171937195276, 1.5552211013830564, -0.6336085968597638, 0.05760078153270579, 0.7488101599251753, 0.9216125045232927, -1.4400195383176448, 1.7280234459811739, -0.28800390766352896, 0.6336085968597638, -0.9792132860559986, 1.2672171937195276, -0.7488101599251753, 0.23040312613082317]\n"
          ]
        }
      ]
    },
    {
      "cell_type": "markdown",
      "source": [
        "## Q10. Write a function to compute and return the Pearson correlation coefficient value of two list of numbers"
      ],
      "metadata": {
        "id": "YQSNHIfxUb6s"
      }
    },
    {
      "cell_type": "code",
      "source": [
        "def mean(lst):\n",
        "    return sum(lst) / len(lst)\n",
        "def stdeviation(lst):\n",
        "    mean_val = mean(lst)\n",
        "    variance = sum((xi - mean_val) ** 2 for xi in lst) / len(lst)\n",
        "    return variance ** 0.5\n",
        "def pearson_corr_coeff(lst_x, lst_y):\n",
        "    x_mean = mean(lst_x)\n",
        "    y_mean = mean(lst_y)\n",
        "    std_x = stdeviation(lst_x)\n",
        "    std_y = stdeviation(lst_y)\n",
        "    xi_minus_xmean_list = [xi - x_mean for xi in lst_x]\n",
        "    yi_minus_ymean_list = [yi - y_mean for yi in lst_y]\n",
        "    products = [x * y for x, y in zip(xi_minus_xmean_list, yi_minus_ymean_list)]\n",
        "    covariance = sum(products) / len(lst_x)\n",
        "    return covariance / (std_x * std_y)\n",
        "num_x = [42, 17, 33, 8, 56, 29, 14, 63, 25, 37, 49, 52, 11, 66, 31, 47, 19, 58, 23, 40]\n",
        "num_y = [15, 28, 37, 9, 62, 25, 13, 68, 21, 41, 45, 50, 18, 70, 30, 46, 16, 60, 27, 38]\n",
        "\n",
        "print(\"Pearson Correlation Coefficient:\", pearson_corr_coeff(num_x, num_y))\n"
      ],
      "metadata": {
        "id": "1YGqr3T6Uk6H",
        "outputId": "b70f0866-3ad6-4155-ad9c-b28dd84ee523",
        "colab": {
          "base_uri": "https://localhost:8080/"
        }
      },
      "execution_count": 30,
      "outputs": [
        {
          "output_type": "stream",
          "name": "stdout",
          "text": [
            "Pearson Correlation Coefficient: 0.9160299832739037\n"
          ]
        }
      ]
    }
  ]
}