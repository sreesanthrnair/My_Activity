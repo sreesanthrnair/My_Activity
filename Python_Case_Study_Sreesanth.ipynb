{
  "nbformat": 4,
  "nbformat_minor": 0,
  "metadata": {
    "colab": {
      "provenance": [],
      "include_colab_link": true
    },
    "kernelspec": {
      "name": "python3",
      "display_name": "Python 3"
    },
    "language_info": {
      "name": "python"
    }
  },
  "cells": [
    {
      "cell_type": "markdown",
      "metadata": {
        "id": "view-in-github",
        "colab_type": "text"
      },
      "source": [
        "<a href=\"https://colab.research.google.com/github/sreesanthrnair/My_Activity/blob/main/Python_Case_Study_Sreesanth.ipynb\" target=\"_parent\"><img src=\"https://colab.research.google.com/assets/colab-badge.svg\" alt=\"Open In Colab\"/></a>"
      ]
    },
    {
      "cell_type": "markdown",
      "source": [
        "# Answer the following questions using only builtin Python datatypes and functions. Do not use Numpy or Scipy (i.e. No library imports allowed)"
      ],
      "metadata": {
        "id": "zVV_KMSIUG-A"
      }
    },
    {
      "cell_type": "markdown",
      "source": [
        "# Q1. Write a function that return the range (maximum and minimun) of a given list of numbers"
      ],
      "metadata": {
        "id": "uZnK7VgWV5SI"
      }
    },
    {
      "cell_type": "code",
      "source": [
        "my_list=[1,2,4,3,5,7]\n",
        "def max_min(my_list):\n",
        "  max=my_list[0]\n",
        "  min=my_list[0]\n",
        "  for i in  (my_list):\n",
        "    if(i>max):\n",
        "      max=i\n",
        "    if(i<min):\n",
        "      min=i\n",
        "  return(max,min)\n",
        "max_min(my_list)"
      ],
      "metadata": {
        "id": "vuAbJQcOWAM7",
        "colab": {
          "base_uri": "https://localhost:8080/"
        },
        "outputId": "1647cfcd-88b2-4367-8f68-74fd9b9932ee"
      },
      "execution_count": 12,
      "outputs": [
        {
          "output_type": "execute_result",
          "data": {
            "text/plain": [
              "(7, 1)"
            ]
          },
          "metadata": {},
          "execution_count": 12
        }
      ]
    },
    {
      "cell_type": "markdown",
      "source": [
        "## Q2. Write function that returns mean value of a list of numbers"
      ],
      "metadata": {
        "id": "Y5_v5a8_U1O-"
      }
    },
    {
      "cell_type": "code",
      "source": [
        "def mean(data):\n",
        "  data=[5,8,2,7,3,8,10]\n",
        "  find_mean=sum(data)/7\n",
        "  return(f'Mean is {find_mean}')"
      ],
      "metadata": {
        "id": "RajjEyacU7Sc"
      },
      "execution_count": 53,
      "outputs": []
    },
    {
      "cell_type": "markdown",
      "source": [
        "# Q3. Write a function that returns the median value of a list of numbers"
      ],
      "metadata": {
        "id": "OpeRxoEoVTIP"
      }
    },
    {
      "cell_type": "code",
      "source": [
        "data=[5,8,2,7,3,8,10,17]\n",
        "data.sort()\n",
        "n=len(data)\n",
        "if(n % 2 == 1):\n",
        "  median=data[n//2]\n",
        "else:\n",
        "  median=(data[n//2-1] + data[n//2])/2\n",
        "print(f'Median is {median}')"
      ],
      "metadata": {
        "id": "u1CUy0UOVaQi",
        "colab": {
          "base_uri": "https://localhost:8080/"
        },
        "outputId": "24e833ce-cff3-4ca8-fc21-bfd70718caea"
      },
      "execution_count": 14,
      "outputs": [
        {
          "output_type": "stream",
          "name": "stdout",
          "text": [
            "Median is 7.5\n"
          ]
        }
      ]
    },
    {
      "cell_type": "markdown",
      "source": [
        "## Q4. Write a function to return the mod of a list of numbers, if no mod exists, it should return None. If more than one mod exist, return the mod values as list"
      ],
      "metadata": {
        "id": "2EMOG7AZSqVn"
      }
    },
    {
      "cell_type": "code",
      "execution_count": 33,
      "metadata": {
        "id": "qnMm2dhhSk3-",
        "colab": {
          "base_uri": "https://localhost:8080/"
        },
        "outputId": "8882b113-f10a-4482-9e23-f8324aeef379"
      },
      "outputs": [
        {
          "output_type": "stream",
          "name": "stdout",
          "text": [
            "Modes:3 7 "
          ]
        }
      ],
      "source": [
        "data = [1, 3,3,10,7,7, 9,180]\n",
        "n = len(data)\n",
        "count=0\n",
        "max_count=0\n",
        "flag=1\n",
        "mode={}\n",
        "data.sort()\n",
        "for i in data:\n",
        "  count=0\n",
        "  for j in data:\n",
        "    if i==j:\n",
        "      count+=1\n",
        "  mode[i]=count\n",
        "\n",
        "for i in data:\n",
        "  if(mode[i]>max_count):\n",
        "    max_count=mode[i]\n",
        "\n",
        "print(\"Modes:\",end=\"\")\n",
        "for key, value in mode.items():\n",
        "  if value == max_count and value>1:\n",
        "    print(key,end=\" \")\n",
        "    flag=0\n",
        "\n",
        "if flag==1:\n",
        "  print(\"None\")\n"
      ]
    },
    {
      "cell_type": "markdown",
      "source": [
        "## Q5. Write function to compute a given percentile value (e.g. 90th percentile) of a list of numbers"
      ],
      "metadata": {
        "id": "LcqWwqtgTCiL"
      }
    },
    {
      "cell_type": "code",
      "source": [
        "  data=[4,3,6,7,8,8,9,0,5,4,3,3,2,1,2,3,41,6,66,55,44,44,33,23,21,12,56,89,76,54,34,65,38]\n",
        "  percentile=0.9\n",
        "  data.sort()\n",
        "  print(data)\n",
        "  percentage=int(percentile*len(data))\n",
        "  print(f'Percentile is {data[percentage]}')\n",
        "\n"
      ],
      "metadata": {
        "id": "Sn307h0TTb2b",
        "colab": {
          "base_uri": "https://localhost:8080/"
        },
        "outputId": "58e6e383-05c6-4906-f5c8-38f749d08b5b"
      },
      "execution_count": 35,
      "outputs": [
        {
          "output_type": "stream",
          "name": "stdout",
          "text": [
            "[0, 1, 2, 2, 3, 3, 3, 3, 4, 4, 5, 6, 6, 7, 8, 8, 9, 12, 21, 23, 33, 34, 38, 41, 44, 44, 54, 55, 56, 65, 66, 76, 89]\n",
            "Percentile is 65\n"
          ]
        }
      ]
    },
    {
      "cell_type": "markdown",
      "source": [
        "# Q6. Write a function that returns the lower bound of a list of numbers"
      ],
      "metadata": {
        "id": "N-TYHkDcWOfS"
      }
    },
    {
      "cell_type": "code",
      "source": [
        "def lower_bnd(lst):\n",
        "  lst=[6,66,55(lst)]\n",
        "  q1=0.25*len(lst)\n",
        "  iqr=q3-q1\n",
        "lower_bound=q1-1.5(iqr)\n",
        "return(lower_bound)"
      ],
      "metadata": {
        "id": "Y-RKPdKuW5nx",
        "colab": {
          "base_uri": "https://localhost:8080/",
          "height": 332
        },
        "outputId": "625d4ab9-308d-44f3-a357-dd581a186388"
      },
      "execution_count": 42,
      "outputs": [
        {
          "output_type": "stream",
          "name": "stderr",
          "text": [
            "<>:2: SyntaxWarning: 'int' object is not callable; perhaps you missed a comma?\n",
            "<>:5: SyntaxWarning: 'float' object is not callable; perhaps you missed a comma?\n",
            "<>:2: SyntaxWarning: 'int' object is not callable; perhaps you missed a comma?\n",
            "<>:5: SyntaxWarning: 'float' object is not callable; perhaps you missed a comma?\n",
            "/tmp/ipython-input-2728307958.py:2: SyntaxWarning: 'int' object is not callable; perhaps you missed a comma?\n",
            "  lst=[6,66,55(lst)]\n",
            "/tmp/ipython-input-2728307958.py:5: SyntaxWarning: 'float' object is not callable; perhaps you missed a comma?\n",
            "  lower_bound=q1-1.5(iqr)\n"
          ]
        },
        {
          "output_type": "error",
          "ename": "NameError",
          "evalue": "name 'q1' is not defined",
          "traceback": [
            "\u001b[0;31m---------------------------------------------------------------------------\u001b[0m",
            "\u001b[0;31mNameError\u001b[0m                                 Traceback (most recent call last)",
            "\u001b[0;32m/tmp/ipython-input-2728307958.py\u001b[0m in \u001b[0;36m<cell line: 0>\u001b[0;34m()\u001b[0m\n\u001b[1;32m      3\u001b[0m   \u001b[0mq1\u001b[0m\u001b[0;34m=\u001b[0m\u001b[0;36m0.25\u001b[0m\u001b[0;34m*\u001b[0m\u001b[0mlen\u001b[0m\u001b[0;34m(\u001b[0m\u001b[0mlst\u001b[0m\u001b[0;34m)\u001b[0m\u001b[0;34m\u001b[0m\u001b[0;34m\u001b[0m\u001b[0m\n\u001b[1;32m      4\u001b[0m   \u001b[0miqr\u001b[0m\u001b[0;34m=\u001b[0m\u001b[0mq3\u001b[0m\u001b[0;34m-\u001b[0m\u001b[0mq1\u001b[0m\u001b[0;34m\u001b[0m\u001b[0;34m\u001b[0m\u001b[0m\n\u001b[0;32m----> 5\u001b[0;31m \u001b[0mlower_bound\u001b[0m\u001b[0;34m=\u001b[0m\u001b[0mq1\u001b[0m\u001b[0;34m-\u001b[0m\u001b[0;36m1.5\u001b[0m\u001b[0;34m(\u001b[0m\u001b[0miqr\u001b[0m\u001b[0;34m)\u001b[0m\u001b[0;34m\u001b[0m\u001b[0;34m\u001b[0m\u001b[0m\n\u001b[0m\u001b[1;32m      6\u001b[0m \u001b[0;32mreturn\u001b[0m\u001b[0;34m(\u001b[0m\u001b[0mlower_bound\u001b[0m\u001b[0;34m)\u001b[0m\u001b[0;34m\u001b[0m\u001b[0;34m\u001b[0m\u001b[0m\n",
            "\u001b[0;31mNameError\u001b[0m: name 'q1' is not defined"
          ]
        }
      ]
    },
    {
      "cell_type": "markdown",
      "source": [
        "## Q7. Write function to return any outliers from a given list of numbers, if no outliers present it should return None"
      ],
      "metadata": {
        "id": "5aHfaI_jThpX"
      }
    },
    {
      "cell_type": "code",
      "source": [],
      "metadata": {
        "id": "gG6-qzT7T0Si"
      },
      "execution_count": null,
      "outputs": []
    },
    {
      "cell_type": "markdown",
      "source": [
        "##Q8. Write a function to return standard deviation of a list of numbers"
      ],
      "metadata": {
        "id": "jI9t-tcDT5EK"
      }
    },
    {
      "cell_type": "code",
      "source": [],
      "metadata": {
        "id": "MMU_cMlLUFxJ"
      },
      "execution_count": null,
      "outputs": []
    },
    {
      "cell_type": "markdown",
      "source": [
        "## Q9. Write function to compute and return Z-score values of a list of numbers"
      ],
      "metadata": {
        "id": "LufmQDJPURkM"
      }
    },
    {
      "cell_type": "code",
      "source": [],
      "metadata": {
        "id": "ml2qpSpFUYxV"
      },
      "execution_count": null,
      "outputs": []
    },
    {
      "cell_type": "markdown",
      "source": [
        "## Q10. Write a function to compute and return the Pearson correlation coefficient value of two list of numbers"
      ],
      "metadata": {
        "id": "YQSNHIfxUb6s"
      }
    },
    {
      "cell_type": "code",
      "source": [],
      "metadata": {
        "id": "1YGqr3T6Uk6H"
      },
      "execution_count": null,
      "outputs": []
    }
  ]
}